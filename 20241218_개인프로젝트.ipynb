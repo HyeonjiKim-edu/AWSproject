{
 "cells": [
  {
   "cell_type": "markdown",
   "id": "5b66e6ea-4ee1-4d5e-a14b-893da845ac4b",
   "metadata": {},
   "source": [
    "# 개인 프로젝트 : 구매 예측 프로젝트\n",
    "    - 특정 시간대 별 구매 활성 여부를 예측"
   ]
  },
  {
   "cell_type": "markdown",
   "id": "841bc902-fdfc-45e8-9c5b-aebf9a628e23",
   "metadata": {},
   "source": [
    "## 1. 데이터 로드"
   ]
  },
  {
   "cell_type": "code",
   "execution_count": 1,
   "id": "6695fca5-d2f5-4c13-9723-1cd74be8600d",
   "metadata": {},
   "outputs": [
    {
     "name": "stderr",
     "output_type": "stream",
     "text": [
      "24/12/20 09:31:07 WARN NativeCodeLoader: Unable to load native-hadoop library for your platform... using builtin-java classes where applicable\n",
      "Using Spark's default log4j profile: org/apache/spark/log4j-defaults.properties\n",
      "Setting default log level to \"WARN\".\n",
      "To adjust logging level use sc.setLogLevel(newLevel). For SparkR, use setLogLevel(newLevel).\n"
     ]
    }
   ],
   "source": [
    "from pyspark.sql import SparkSession\n",
    "\n",
    "spark = SparkSession.builder.appName(\"241218_analyze_project\").getOrCreate()"
   ]
  },
  {
   "cell_type": "code",
   "execution_count": 2,
   "id": "7fdc9a57-f2c7-4c6a-82ff-617440a87880",
   "metadata": {},
   "outputs": [
    {
     "name": "stderr",
     "output_type": "stream",
     "text": [
      "                                                                                "
     ]
    }
   ],
   "source": [
    "df = spark.read.format(\"csv\")\\\n",
    "    .option(\"header\", 'true')\\\n",
    "    .option('inferSchema', 'true')\\\n",
    "    .option('encoding', 'CP949')\\\n",
    "    .load('data/거주지(소비자)기준 행정동별 상품판매.csv')"
   ]
  },
  {
   "cell_type": "code",
   "execution_count": 3,
   "id": "6ede99b6-910c-4573-9394-40475d9b5f8c",
   "metadata": {},
   "outputs": [
    {
     "name": "stdout",
     "output_type": "stream",
     "text": [
      "+----------------+---------------------+-----------------------+----------------+------------------+-------------------+--------------------+------------------+------------------+\n",
      "|기준년월(STD_YM)|행정동코드(ADSTRD_CD)|통계청상품코드(STAT_CD)|성별코드(SEX_CD)|연령대코드(AGE_CD)|시간대코드(TIME_CD)|구매_고객수(ACC_CNT)|구매건수(PURH_CNT)|구매금액(PURH_AMT)|\n",
      "+----------------+---------------------+-----------------------+----------------+------------------+-------------------+--------------------+------------------+------------------+\n",
      "|          201907|             11200720|                      E|               1|                 4|                  5|                   5|                16|            436000|\n",
      "|          201809|             11140635|                      E|               1|                 7|                  4|                 179|                18|            110000|\n",
      "|          201805|             11380632|                      J|               2|                 3|                  5|                   5|                 2|              1000|\n",
      "+----------------+---------------------+-----------------------+----------------+------------------+-------------------+--------------------+------------------+------------------+\n",
      "only showing top 3 rows\n",
      "\n"
     ]
    }
   ],
   "source": [
    "df.show(3)"
   ]
  },
  {
   "cell_type": "code",
   "execution_count": 4,
   "id": "05fc61fe-e249-48d5-9008-5912c4a1f6a5",
   "metadata": {},
   "outputs": [
    {
     "name": "stdout",
     "output_type": "stream",
     "text": [
      "root\n",
      " |-- 기준년월(STD_YM): integer (nullable = true)\n",
      " |-- 행정동코드(ADSTRD_CD): integer (nullable = true)\n",
      " |-- 통계청상품코드(STAT_CD): string (nullable = true)\n",
      " |-- 성별코드(SEX_CD): integer (nullable = true)\n",
      " |-- 연령대코드(AGE_CD): integer (nullable = true)\n",
      " |-- 시간대코드(TIME_CD): integer (nullable = true)\n",
      " |-- 구매_고객수(ACC_CNT): integer (nullable = true)\n",
      " |-- 구매건수(PURH_CNT): integer (nullable = true)\n",
      " |-- 구매금액(PURH_AMT): integer (nullable = true)\n",
      "\n"
     ]
    }
   ],
   "source": [
    "df.printSchema()"
   ]
  },
  {
   "cell_type": "code",
   "execution_count": 5,
   "id": "a8fe2a8c-9daa-43f8-8e00-3b259ae3a333",
   "metadata": {},
   "outputs": [
    {
     "data": {
      "text/plain": [
       "500"
      ]
     },
     "execution_count": 5,
     "metadata": {},
     "output_type": "execute_result"
    }
   ],
   "source": [
    "df.count()"
   ]
  },
  {
   "cell_type": "markdown",
   "id": "1adf1fd5-1bd7-410e-b1c3-ad5cac50ff54",
   "metadata": {},
   "source": [
    "## 2. 데이터 전처리"
   ]
  },
  {
   "cell_type": "markdown",
   "id": "35db71d5-bc9e-4917-8f6e-c404c0fa3cc5",
   "metadata": {},
   "source": [
    "### 1) 결측치 확인"
   ]
  },
  {
   "cell_type": "code",
   "execution_count": 6,
   "id": "422d2d4d-d4ed-4ee2-a97f-cdf6350b6593",
   "metadata": {},
   "outputs": [
    {
     "name": "stdout",
     "output_type": "stream",
     "text": [
      "+----------------+---------------------+-----------------------+----------------+------------------+-------------------+--------------------+------------------+------------------+\n",
      "|기준년월(STD_YM)|행정동코드(ADSTRD_CD)|통계청상품코드(STAT_CD)|성별코드(SEX_CD)|연령대코드(AGE_CD)|시간대코드(TIME_CD)|구매_고객수(ACC_CNT)|구매건수(PURH_CNT)|구매금액(PURH_AMT)|\n",
      "+----------------+---------------------+-----------------------+----------------+------------------+-------------------+--------------------+------------------+------------------+\n",
      "|               0|                    0|                      0|               0|                 0|                  0|                   0|                 0|                 0|\n",
      "+----------------+---------------------+-----------------------+----------------+------------------+-------------------+--------------------+------------------+------------------+\n",
      "\n"
     ]
    }
   ],
   "source": [
    "from pyspark.sql.functions import col, isnan, when, count\n",
    "\n",
    "\n",
    "df.select(\n",
    "    [count(when(col(c).isNull() | isnan(col(c)), c)).alias(c) for c in df.columns]\n",
    ").show()"
   ]
  },
  {
   "cell_type": "markdown",
   "id": "cc3ea3fc-f261-4772-a4a3-c32ce5530e79",
   "metadata": {},
   "source": [
    "### 2) 데이터 열 이름 변경"
   ]
  },
  {
   "cell_type": "code",
   "execution_count": 7,
   "id": "23cdfdb4-53f5-447b-ab89-de4eb7959eec",
   "metadata": {},
   "outputs": [
    {
     "name": "stdout",
     "output_type": "stream",
     "text": [
      "['STD_YM', 'ADSTRD_CD', 'STAT_CD', 'SEX_CD', 'AGE_CD', 'TIME_CD', 'ACC_CNT', 'PURH_CNT', 'PURH_AMT']\n"
     ]
    }
   ],
   "source": [
    "# 열 이름에서 영어 코드만 추출\n",
    "new_columns = [col.split(\"(\")[-1].replace(\")\", \"\") for col in df.columns]  # 영어 코드만 추출\n",
    "df = df.toDF(*new_columns)  # 새 열 이름 적용\n",
    "\n",
    "# 결과 열 이름 확인\n",
    "print(df.columns)"
   ]
  },
  {
   "cell_type": "markdown",
   "id": "cce9b0a8-18c4-426c-be56-cec4e813331b",
   "metadata": {},
   "source": [
    "### 3) 분석에 활용할 데이터 선택"
   ]
  },
  {
   "cell_type": "code",
   "execution_count": 12,
   "id": "8216c797-a005-447f-80af-ae8d7b9d30eb",
   "metadata": {},
   "outputs": [],
   "source": [
    "a_df = df.select(\"STD_YM\", \"ADSTRD_CD\", \"STAT_CD\", \"SEX_CD\", \"AGE_CD\", \"TIME_CD\", \"ACC_CNT\", \"PURH_CNT\")"
   ]
  },
  {
   "cell_type": "code",
   "execution_count": 13,
   "id": "15de9deb-6b98-4769-bb0e-c2ee93673257",
   "metadata": {},
   "outputs": [
    {
     "name": "stdout",
     "output_type": "stream",
     "text": [
      "+------+---------+-------+------+------+-------+-------+--------+\n",
      "|STD_YM|ADSTRD_CD|STAT_CD|SEX_CD|AGE_CD|TIME_CD|ACC_CNT|PURH_CNT|\n",
      "+------+---------+-------+------+------+-------+-------+--------+\n",
      "|201907| 11200720|      E|     1|     4|      5|      5|      16|\n",
      "|201809| 11140635|      E|     1|     7|      4|    179|      18|\n",
      "|201805| 11380632|      J|     2|     3|      5|      5|       2|\n",
      "+------+---------+-------+------+------+-------+-------+--------+\n",
      "only showing top 3 rows\n",
      "\n"
     ]
    }
   ],
   "source": [
    "a_df.show(3)"
   ]
  },
  {
   "cell_type": "markdown",
   "id": "61da335a-2361-4e7e-8645-22d423e3e1bb",
   "metadata": {},
   "source": [
    "## 3. 데이터 기초 분석"
   ]
  },
  {
   "cell_type": "markdown",
   "id": "3c0387bb-b731-4c48-aac6-f17e5773b30e",
   "metadata": {},
   "source": [
    "### 1) 기술통계치 확인"
   ]
  },
  {
   "cell_type": "code",
   "execution_count": 14,
   "id": "7e158378-b857-4d8d-9337-0bdc654f2f6d",
   "metadata": {},
   "outputs": [
    {
     "name": "stdout",
     "output_type": "stream",
     "text": [
      "+-------+------------------+------------------+-------+-------------------+------------------+------------------+------------------+-----------------+\n",
      "|summary|            STD_YM|         ADSTRD_CD|STAT_CD|             SEX_CD|            AGE_CD|           TIME_CD|           ACC_CNT|         PURH_CNT|\n",
      "+-------+------------------+------------------+-------+-------------------+------------------+------------------+------------------+-----------------+\n",
      "|  count|               500|               500|    500|                500|               500|               500|               500|              500|\n",
      "|   mean|        201853.004|    1.1435948382E7|   null|              1.526|             4.074|             3.932|            49.024|            99.12|\n",
      "| stddev|50.132329738103536|185625.45644591315|   null|0.49982361618333826|1.6067630113832891|1.4026085060495268|178.35805171964188|373.8095514583904|\n",
      "|    min|            201801|          11110530|      A|                  1|                 1|                 1|                 1|                1|\n",
      "|    max|            201912|          11740700|      L|                  2|                 7|                 6|              2529|             4760|\n",
      "+-------+------------------+------------------+-------+-------------------+------------------+------------------+------------------+-----------------+\n",
      "\n"
     ]
    }
   ],
   "source": [
    "a_df.describe().show()"
   ]
  },
  {
   "cell_type": "code",
   "execution_count": 15,
   "id": "d80ec208-fe1d-461b-9e9c-07bd9cc3a20a",
   "metadata": {},
   "outputs": [
    {
     "name": "stderr",
     "output_type": "stream",
     "text": [
      "[Stage 13:========================================>             (150 + 2) / 200]"
     ]
    },
    {
     "name": "stdout",
     "output_type": "stream",
     "text": [
      "+---------+-----+\n",
      "|ADSTRD_CD|count|\n",
      "+---------+-----+\n",
      "| 11680690|    6|\n",
      "| 11410565|    6|\n",
      "| 11230705|    5|\n",
      "| 11710647|    5|\n",
      "| 11650530|    5|\n",
      "| 11380552|    4|\n",
      "| 11200560|    4|\n",
      "| 11560540|    4|\n",
      "| 11590680|    4|\n",
      "| 11410655|    4|\n",
      "| 11380530|    4|\n",
      "| 11710642|    4|\n",
      "| 11710650|    4|\n",
      "| 11530540|    4|\n",
      "| 11710610|    3|\n",
      "| 11410710|    3|\n",
      "| 11470600|    3|\n",
      "| 11530760|    3|\n",
      "| 11680521|    3|\n",
      "| 11680700|    3|\n",
      "+---------+-----+\n",
      "only showing top 20 rows\n",
      "\n"
     ]
    },
    {
     "name": "stderr",
     "output_type": "stream",
     "text": [
      "                                                                                "
     ]
    }
   ],
   "source": [
    "a_df.groupBy(\"ADSTRD_CD\").count().orderBy(\"count\", ascending=False).show()"
   ]
  },
  {
   "cell_type": "code",
   "execution_count": 16,
   "id": "587101a8-5b3f-4e32-812f-81944a0359b3",
   "metadata": {},
   "outputs": [
    {
     "name": "stderr",
     "output_type": "stream",
     "text": [
      "                                                                                "
     ]
    },
    {
     "data": {
      "text/plain": [
       "294"
      ]
     },
     "execution_count": 16,
     "metadata": {},
     "output_type": "execute_result"
    }
   ],
   "source": [
    "a_df.groupBy(\"ADSTRD_CD\").count().orderBy(\"count\", ascending=False).count()"
   ]
  },
  {
   "cell_type": "code",
   "execution_count": 17,
   "id": "59e74f19-80f5-4344-b763-25a69090dac1",
   "metadata": {},
   "outputs": [
    {
     "name": "stderr",
     "output_type": "stream",
     "text": [
      "[Stage 18:======================================>               (144 + 2) / 200]"
     ]
    },
    {
     "name": "stdout",
     "output_type": "stream",
     "text": [
      "+------+-----+\n",
      "|STD_YM|count|\n",
      "+------+-----+\n",
      "|201803|   32|\n",
      "|201810|   29|\n",
      "|201802|   26|\n",
      "|201805|   25|\n",
      "|201812|   23|\n",
      "|201908|   23|\n",
      "|201907|   23|\n",
      "|201910|   22|\n",
      "|201901|   21|\n",
      "|201904|   21|\n",
      "|201801|   21|\n",
      "|201806|   21|\n",
      "|201905|   20|\n",
      "|201809|   20|\n",
      "|201808|   20|\n",
      "|201909|   19|\n",
      "|201906|   19|\n",
      "|201902|   18|\n",
      "|201804|   18|\n",
      "|201811|   17|\n",
      "+------+-----+\n",
      "only showing top 20 rows\n",
      "\n"
     ]
    },
    {
     "name": "stderr",
     "output_type": "stream",
     "text": [
      "                                                                                "
     ]
    }
   ],
   "source": [
    "a_df.groupBy(\"STD_YM\").count().orderBy(\"count\", ascending=False).show()"
   ]
  },
  {
   "cell_type": "code",
   "execution_count": 18,
   "id": "0425b976-914a-46ba-bcea-4ad0b60be08f",
   "metadata": {},
   "outputs": [
    {
     "name": "stderr",
     "output_type": "stream",
     "text": [
      "                                                                                "
     ]
    },
    {
     "data": {
      "text/plain": [
       "24"
      ]
     },
     "execution_count": 18,
     "metadata": {},
     "output_type": "execute_result"
    }
   ],
   "source": [
    "a_df.groupBy(\"STD_YM\").count().orderBy(\"count\", ascending=False).count()"
   ]
  },
  {
   "cell_type": "code",
   "execution_count": 19,
   "id": "f839d25d-0f90-4e73-a282-695c9539d1e5",
   "metadata": {},
   "outputs": [
    {
     "name": "stdout",
     "output_type": "stream",
     "text": [
      "+-------+-----+\n",
      "|STAT_CD|count|\n",
      "+-------+-----+\n",
      "|      F|   17|\n",
      "|      E|   95|\n",
      "|      B|   87|\n",
      "|      L|   79|\n",
      "|      C|   30|\n",
      "|      J|   35|\n",
      "|      A|   99|\n",
      "|      G|   19|\n",
      "|      I|   39|\n",
      "+-------+-----+\n",
      "\n",
      "+------+-----+\n",
      "|SEX_CD|count|\n",
      "+------+-----+\n",
      "|     1|  237|\n",
      "|     2|  263|\n",
      "+------+-----+\n",
      "\n",
      "+-------+-----+\n",
      "|TIME_CD|count|\n",
      "+-------+-----+\n",
      "|      1|   21|\n",
      "|      6|   83|\n",
      "|      3|  123|\n",
      "|      5|  104|\n",
      "|      4|  110|\n",
      "|      2|   59|\n",
      "+-------+-----+\n",
      "\n"
     ]
    }
   ],
   "source": [
    "a_df.groupBy(\"STAT_CD\").count().show()\n",
    "a_df.groupBy(\"SEX_CD\").count().show()\n",
    "a_df.groupBy(\"TIME_CD\").count().show()"
   ]
  },
  {
   "cell_type": "markdown",
   "id": "65cb50f9-f848-45b1-9f19-3d1ad46bf522",
   "metadata": {},
   "source": [
    "### 2) 데이터 분포 확인"
   ]
  },
  {
   "cell_type": "code",
   "execution_count": 141,
   "id": "2b62ecfd-24b8-48cb-9f92-db2ad87c7511",
   "metadata": {},
   "outputs": [
    {
     "name": "stdout",
     "output_type": "stream",
     "text": [
      "Collecting seaborn\n",
      "  Downloading seaborn-0.13.2-py3-none-any.whl.metadata (5.4 kB)\n",
      "Requirement already satisfied: numpy!=1.24.0,>=1.20 in /home/ubuntu/anaconda3/envs/spark_start/lib/python3.8/site-packages (from seaborn) (1.24.4)\n",
      "Requirement already satisfied: pandas>=1.2 in /home/ubuntu/anaconda3/envs/spark_start/lib/python3.8/site-packages (from seaborn) (2.0.3)\n",
      "Requirement already satisfied: matplotlib!=3.6.1,>=3.4 in /home/ubuntu/anaconda3/envs/spark_start/lib/python3.8/site-packages (from seaborn) (3.7.5)\n",
      "Requirement already satisfied: contourpy>=1.0.1 in /home/ubuntu/anaconda3/envs/spark_start/lib/python3.8/site-packages (from matplotlib!=3.6.1,>=3.4->seaborn) (1.1.1)\n",
      "Requirement already satisfied: cycler>=0.10 in /home/ubuntu/anaconda3/envs/spark_start/lib/python3.8/site-packages (from matplotlib!=3.6.1,>=3.4->seaborn) (0.12.1)\n",
      "Requirement already satisfied: fonttools>=4.22.0 in /home/ubuntu/anaconda3/envs/spark_start/lib/python3.8/site-packages (from matplotlib!=3.6.1,>=3.4->seaborn) (4.55.2)\n",
      "Requirement already satisfied: kiwisolver>=1.0.1 in /home/ubuntu/anaconda3/envs/spark_start/lib/python3.8/site-packages (from matplotlib!=3.6.1,>=3.4->seaborn) (1.4.7)\n",
      "Requirement already satisfied: packaging>=20.0 in /home/ubuntu/anaconda3/envs/spark_start/lib/python3.8/site-packages (from matplotlib!=3.6.1,>=3.4->seaborn) (24.2)\n",
      "Requirement already satisfied: pillow>=6.2.0 in /home/ubuntu/anaconda3/envs/spark_start/lib/python3.8/site-packages (from matplotlib!=3.6.1,>=3.4->seaborn) (10.4.0)\n",
      "Requirement already satisfied: pyparsing>=2.3.1 in /home/ubuntu/anaconda3/envs/spark_start/lib/python3.8/site-packages (from matplotlib!=3.6.1,>=3.4->seaborn) (3.1.4)\n",
      "Requirement already satisfied: python-dateutil>=2.7 in /home/ubuntu/anaconda3/envs/spark_start/lib/python3.8/site-packages (from matplotlib!=3.6.1,>=3.4->seaborn) (2.9.0.post0)\n",
      "Requirement already satisfied: importlib-resources>=3.2.0 in /home/ubuntu/anaconda3/envs/spark_start/lib/python3.8/site-packages (from matplotlib!=3.6.1,>=3.4->seaborn) (6.4.5)\n",
      "Requirement already satisfied: pytz>=2020.1 in /home/ubuntu/anaconda3/envs/spark_start/lib/python3.8/site-packages (from pandas>=1.2->seaborn) (2024.2)\n",
      "Requirement already satisfied: tzdata>=2022.1 in /home/ubuntu/anaconda3/envs/spark_start/lib/python3.8/site-packages (from pandas>=1.2->seaborn) (2024.2)\n",
      "Requirement already satisfied: zipp>=3.1.0 in /home/ubuntu/anaconda3/envs/spark_start/lib/python3.8/site-packages (from importlib-resources>=3.2.0->matplotlib!=3.6.1,>=3.4->seaborn) (3.20.2)\n",
      "Requirement already satisfied: six>=1.5 in /home/ubuntu/anaconda3/envs/spark_start/lib/python3.8/site-packages (from python-dateutil>=2.7->matplotlib!=3.6.1,>=3.4->seaborn) (1.16.0)\n",
      "Downloading seaborn-0.13.2-py3-none-any.whl (294 kB)\n",
      "Installing collected packages: seaborn\n",
      "Successfully installed seaborn-0.13.2\n"
     ]
    }
   ],
   "source": [
    "!pip install seaborn"
   ]
  },
  {
   "cell_type": "code",
   "execution_count": 28,
   "id": "73256c44-7679-47da-b58b-452fca7077ea",
   "metadata": {},
   "outputs": [],
   "source": [
    "import pandas as pd\n",
    "import matplotlib.pyplot as plt\n",
    "\n",
    "pandas_df = a_df.select(\"ADSTRD_CD\", \"STAT_CD\", \"SEX_CD\", \"AGE_CD\", \"TIME_CD\", \"ACC_CNT\", \"PURH_CNT\").toPandas()"
   ]
  },
  {
   "cell_type": "code",
   "execution_count": 29,
   "id": "6284a091-1840-4f1a-bce3-cb323ca62075",
   "metadata": {},
   "outputs": [
    {
     "data": {
      "image/png": "[encoded data removed]",
      "text/plain": [
       "<Figure size 1200x800 with 6 Axes>"
      ]
     },
     "metadata": {},
     "output_type": "display_data"
    }
   ],
   "source": [
    "pandas_df.hist(bins=20, figsize=(12, 8), color='skyblue', alpha=0.7)\n",
    "plt.tight_layout()\n",
    "plt.show()"
   ]
  },
  {
   "cell_type": "code",
   "execution_count": 30,
   "id": "3145c0a9-5a73-4bab-9021-a856e170a5e8",
   "metadata": {},
   "outputs": [
    {
     "data": {
      "image/png": "[encoded data removed]",
      "text/plain": [
       "<Figure size 640x480 with 1 Axes>"
      ]
     },
     "metadata": {},
     "output_type": "display_data"
    },
    {
     "data": {
      "image/png": "[encoded data removed]",
      "text/plain": [
       "<Figure size 640x480 with 1 Axes>"
      ]
     },
     "metadata": {},
     "output_type": "display_data"
    }
   ],
   "source": [
    "import seaborn as sns\n",
    "\n",
    "# ACC_CNT 히스토그램\n",
    "sns.histplot(data=pandas_df, x=\"ACC_CNT\", bins=20, kde=True, color='blue')\n",
    "plt.title(\"ACC_CNT Distribution\")\n",
    "plt.xlabel(\"ACC_CNT\")\n",
    "plt.ylabel(\"Frequency\")\n",
    "plt.show()\n",
    "\n",
    "# PURH_CNT 히스토그램\n",
    "sns.histplot(data=pandas_df, x=\"PURH_CNT\", bins=20, kde=True, color='green')\n",
    "plt.title(\"PURH_CNT Distribution\")\n",
    "plt.xlabel(\"PURH_CNT\")\n",
    "plt.ylabel(\"Frequency\")\n",
    "plt.show()\n"
   ]
  },
  {
   "cell_type": "markdown",
   "id": "24edddbc-3b9e-489e-ba58-f4711121dedd",
   "metadata": {},
   "source": [
    "### 3) 상관관계 분석"
   ]
  },
  {
   "cell_type": "code",
   "execution_count": 92,
   "id": "cee2896b-a812-4f08-a87f-963314b7b703",
   "metadata": {},
   "outputs": [
    {
     "name": "stdout",
     "output_type": "stream",
     "text": [
      "           ADSTRD_CD    SEX_CD    AGE_CD   TIME_CD   ACC_CNT  PURH_CNT\n",
      "ADSTRD_CD   1.000000  0.003275  0.023453  0.068500  0.011732  0.077698\n",
      "SEX_CD      0.003275  1.000000  0.073708 -0.020341 -0.027814 -0.049088\n",
      "AGE_CD      0.023453  0.073708  1.000000  0.040474 -0.054096 -0.012006\n",
      "TIME_CD     0.068500 -0.020341  0.040474  1.000000 -0.034616 -0.028658\n",
      "ACC_CNT     0.011732 -0.027814 -0.054096 -0.034616  1.000000  0.016441\n",
      "PURH_CNT    0.077698 -0.049088 -0.012006 -0.028658  0.016441  1.000000\n"
     ]
    }
   ],
   "source": [
    "# Pandas로 상관계수 계산\n",
    "numeric_data = pandas_df.select_dtypes(include=\"number\")  # 숫자형 데이터만 선택\n",
    "correlation_matrix = numeric_data.corr()\n",
    "\n",
    "# 결과 확인\n",
    "print(correlation_matrix)"
   ]
  },
  {
   "cell_type": "code",
   "execution_count": 93,
   "id": "9414f99f-66ae-48ae-b23d-a517ad21826c",
   "metadata": {},
   "outputs": [
    {
     "data": {
      "image/png": "[encoded data removed]",
      "text/plain": [
       "<Figure size 1000x800 with 2 Axes>"
      ]
     },
     "metadata": {},
     "output_type": "display_data"
    }
   ],
   "source": [
    "import seaborn as sns\n",
    "import matplotlib.pyplot as plt\n",
    "\n",
    "# 상관계수 계산\n",
    "correlation_matrix = numeric_data.corr()\n",
    "\n",
    "# 히트맵 시각화\n",
    "plt.figure(figsize=(10, 8))\n",
    "sns.heatmap(correlation_matrix, annot=True, fmt=\".2f\", cmap=\"coolwarm\")\n",
    "plt.title(\"Correlation Matrix\")\n",
    "plt.show()\n"
   ]
  },
  {
   "cell_type": "markdown",
   "id": "58b2c184-669b-4959-b7b1-25475840f199",
   "metadata": {},
   "source": [
    "## 4. 모델 구축"
   ]
  },
  {
   "cell_type": "markdown",
   "id": "4f926c3b-f7e2-49bb-b595-0f3462d21c31",
   "metadata": {},
   "source": [
    "### 1) 피쳐 선택 및 변환"
   ]
  },
  {
   "cell_type": "code",
   "execution_count": 31,
   "id": "cf8491c1-903e-4ce8-9a2a-52b20120a196",
   "metadata": {},
   "outputs": [],
   "source": [
    "from pyspark.ml.feature import StringIndexer\n",
    "\n",
    "# 범주형 데이터 컬럼 리스트\n",
    "category = [\"ADSTRD_CD\", \"STAT_CD\", \"SEX_CD\", \"AGE_CD\", \"TIME_CD\"]\n",
    "\n",
    "# StringIndexer를 단계별로 생성\n",
    "indexers = [\n",
    "    StringIndexer(inputCol=col, outputCol=col + \"_Index\", handleInvalid=\"keep\") \n",
    "    for col in category\n",
    "]\n",
    "\n"
   ]
  },
  {
   "cell_type": "markdown",
   "id": "270d9afd-afc6-4226-b7e9-11ee70a7bfe0",
   "metadata": {},
   "source": [
    "### 2) 피처 벡터 어셈블"
   ]
  },
  {
   "cell_type": "code",
   "execution_count": 32,
   "id": "dea6863a-c4d3-493d-a906-59f546bc6b29",
   "metadata": {},
   "outputs": [],
   "source": [
    "from pyspark.ml.feature import StringIndexer, VectorAssembler\n",
    "\n",
    "# VectorAssembler 설정\n",
    "assembler = VectorAssembler(\n",
    "    inputCols=[col + \"_Index\" for col in category],\n",
    "    outputCol=\"features\"\n",
    ")"
   ]
  },
  {
   "cell_type": "markdown",
   "id": "f756f56d-7fc6-42e7-bf25-f20c96784b6b",
   "metadata": {},
   "source": [
    "### 3) 파이프라인 설정"
   ]
  },
  {
   "cell_type": "code",
   "execution_count": 33,
   "id": "0316c9be-f1dc-4be4-9f21-8f49beba9f39",
   "metadata": {},
   "outputs": [
    {
     "name": "stdout",
     "output_type": "stream",
     "text": [
      "+--------------------+-------+\n",
      "|            features|ACC_CNT|\n",
      "+--------------------+-------+\n",
      "|[160.0,1.0,1.0,1....|      5|\n",
      "|[55.0,1.0,1.0,5.0...|    179|\n",
      "|[90.0,5.0,0.0,0.0...|      5|\n",
      "|[66.0,2.0,1.0,4.0...|    331|\n",
      "|[55.0,2.0,1.0,4.0...|      9|\n",
      "|[86.0,3.0,0.0,5.0...|     18|\n",
      "|[115.0,0.0,0.0,4....|      1|\n",
      "|[70.0,0.0,1.0,1.0...|      3|\n",
      "|[36.0,1.0,0.0,0.0...|      3|\n",
      "|[34.0,1.0,1.0,1.0...|      3|\n",
      "|[252.0,3.0,1.0,1....|      2|\n",
      "|[59.0,2.0,1.0,0.0...|      7|\n",
      "|[52.0,8.0,0.0,5.0...|     10|\n",
      "|[103.0,2.0,1.0,2....|     59|\n",
      "|[145.0,3.0,1.0,2....|      1|\n",
      "| (5,[0,2],[9.0,1.0])|      3|\n",
      "|[139.0,6.0,0.0,5....|      1|\n",
      "|[93.0,3.0,1.0,2.0...|      1|\n",
      "|[5.0,4.0,1.0,1.0,...|     15|\n",
      "|[80.0,1.0,1.0,0.0...|    288|\n",
      "+--------------------+-------+\n",
      "only showing top 20 rows\n",
      "\n"
     ]
    }
   ],
   "source": [
    "from pyspark.ml import Pipeline\n",
    "\n",
    "# 파이프라인 설정\n",
    "pipeline = Pipeline(stages=indexers + [assembler])\n",
    "\n",
    "# 파이프라인 실행\n",
    "pipeline_model = pipeline.fit(a_df)\n",
    "df_transformed = pipeline_model.transform(a_df)\n",
    "\n",
    "# 결과 확인\n",
    "df_transformed.select(\"features\", \"ACC_CNT\").show()"
   ]
  },
  {
   "cell_type": "markdown",
   "id": "5ad8f7e4-4871-409f-a55a-84fbec61d6be",
   "metadata": {},
   "source": [
    "### 4) 데이터 분할"
   ]
  },
  {
   "cell_type": "code",
   "execution_count": 34,
   "id": "48417c49-87fe-4868-a310-b5b76f9d3d0b",
   "metadata": {},
   "outputs": [],
   "source": [
    "train_data, test_data = df_transformed.randomSplit([0.8, 0.2], seed=42)"
   ]
  },
  {
   "cell_type": "code",
   "execution_count": 35,
   "id": "82ddf2e3-5674-4039-a99b-66d571c4656b",
   "metadata": {},
   "outputs": [
    {
     "name": "stdout",
     "output_type": "stream",
     "text": [
      "+------+---------+-------+------+------+-------+-------+--------+---------------+-------------+------------+------------+-------------+--------------------+\n",
      "|STD_YM|ADSTRD_CD|STAT_CD|SEX_CD|AGE_CD|TIME_CD|ACC_CNT|PURH_CNT|ADSTRD_CD_Index|STAT_CD_Index|SEX_CD_Index|AGE_CD_Index|TIME_CD_Index|            features|\n",
      "+------+---------+-------+------+------+-------+-------+--------+---------------+-------------+------------+------------+-------------+--------------------+\n",
      "|201801| 11230660|      I|     2|     2|      2|      7|     951|          172.0|          4.0|         0.0|         3.0|          4.0|[172.0,4.0,0.0,3....|\n",
      "|201801| 11260570|      J|     2|     4|      3|      1|      21|          179.0|          5.0|         0.0|         1.0|          0.0|[179.0,5.0,0.0,1....|\n",
      "|201801| 11380552|      B|     2|     4|      5|     10|       2|            7.0|          2.0|         0.0|         1.0|          2.0|[7.0,2.0,0.0,1.0,...|\n",
      "|201801| 11410565|      B|     1|     6|      3|      8|     435|            0.0|          2.0|         1.0|         4.0|          0.0|[0.0,2.0,1.0,4.0,...|\n",
      "|201801| 11440585|      C|     1|     3|      5|      5|       6|          223.0|          6.0|         1.0|         0.0|          2.0|[223.0,6.0,1.0,0....|\n",
      "+------+---------+-------+------+------+-------+-------+--------+---------------+-------------+------------+------------+-------------+--------------------+\n",
      "only showing top 5 rows\n",
      "\n",
      "+------+---------+-------+------+------+-------+-------+--------+---------------+-------------+------------+------------+-------------+--------------------+\n",
      "|STD_YM|ADSTRD_CD|STAT_CD|SEX_CD|AGE_CD|TIME_CD|ACC_CNT|PURH_CNT|ADSTRD_CD_Index|STAT_CD_Index|SEX_CD_Index|AGE_CD_Index|TIME_CD_Index|            features|\n",
      "+------+---------+-------+------+------+-------+-------+--------+---------------+-------------+------------+------------+-------------+--------------------+\n",
      "|201801| 11350720|      E|     1|     3|      5|     27|      34|           26.0|          1.0|         1.0|         0.0|          2.0|[26.0,1.0,1.0,0.0...|\n",
      "|201801| 11440680|      A|     1|     5|      4|    305|      32|           30.0|          0.0|         1.0|         2.0|          1.0|[30.0,0.0,1.0,2.0...|\n",
      "|201801| 11470570|      F|     2|     3|      5|     24|      68|          233.0|          8.0|         0.0|         0.0|          2.0|[233.0,8.0,0.0,0....|\n",
      "|201801| 11620625|      C|     1|     2|      3|      1|       1|          118.0|          6.0|         1.0|         3.0|          0.0|[118.0,6.0,1.0,3....|\n",
      "|201801| 11740540|      B|     2|     3|      3|      2|     809|           48.0|          2.0|         0.0|         0.0|          0.0|(5,[0,1],[48.0,2.0])|\n",
      "+------+---------+-------+------+------+-------+-------+--------+---------------+-------------+------------+------------+-------------+--------------------+\n",
      "only showing top 5 rows\n",
      "\n"
     ]
    },
    {
     "data": {
      "text/plain": [
       "(None, None)"
      ]
     },
     "execution_count": 35,
     "metadata": {},
     "output_type": "execute_result"
    }
   ],
   "source": [
    "train_data.show(5), test_data.show(5)"
   ]
  },
  {
   "cell_type": "markdown",
   "id": "6a358434-4e4d-4145-a95f-b251b088b47e",
   "metadata": {},
   "source": [
    "### 5) 모델 학습(Linear Regression)"
   ]
  },
  {
   "cell_type": "code",
   "execution_count": 36,
   "id": "654d9354-1ceb-496f-9212-747fad89fc98",
   "metadata": {},
   "outputs": [
    {
     "name": "stderr",
     "output_type": "stream",
     "text": [
      "24/12/20 09:38:59 WARN Instrumentation: [3cee3c50] regParam is zero, which might cause numerical instability and overfitting.\n",
      "24/12/20 09:38:59 WARN BLAS: Failed to load implementation from: com.github.fommil.netlib.NativeSystemBLAS\n",
      "24/12/20 09:38:59 WARN BLAS: Failed to load implementation from: com.github.fommil.netlib.NativeRefBLAS\n",
      "24/12/20 09:38:59 WARN LAPACK: Failed to load implementation from: com.github.fommil.netlib.NativeSystemLAPACK\n",
      "24/12/20 09:38:59 WARN LAPACK: Failed to load implementation from: com.github.fommil.netlib.NativeRefLAPACK\n"
     ]
    }
   ],
   "source": [
    "from pyspark.ml.regression import LinearRegression\n",
    "\n",
    "lr = LinearRegression(featuresCol=\"features\", labelCol=\"ACC_CNT\")\n",
    "lr_model = lr.fit(train_data)"
   ]
  },
  {
   "cell_type": "code",
   "execution_count": 37,
   "id": "b23bbc86-ca5e-466c-99d3-2fe7e1ec3793",
   "metadata": {},
   "outputs": [],
   "source": [
    "predictions = lr_model.transform(test_data)"
   ]
  },
  {
   "cell_type": "markdown",
   "id": "5c721755-8894-4ee6-87c9-b58a6c997b95",
   "metadata": {},
   "source": [
    "## 4. 데이터 분석"
   ]
  },
  {
   "cell_type": "markdown",
   "id": "5eb759aa-e40b-4010-833d-583440619b85",
   "metadata": {},
   "source": [
    "### 1) 행정구역 별 구매 예측"
   ]
  },
  {
   "cell_type": "markdown",
   "id": "f574fe33-ec97-4cc3-afcd-0f0e669ecb3e",
   "metadata": {},
   "source": [
    "#### 1.1) 예측값 확인"
   ]
  },
  {
   "cell_type": "code",
   "execution_count": 38,
   "id": "7db390fe-ed0a-40ad-81d4-3ab59bebacdf",
   "metadata": {},
   "outputs": [
    {
     "name": "stdout",
     "output_type": "stream",
     "text": [
      "+---------+------------------+\n",
      "|ADSTRD_CD|        prediction|\n",
      "+---------+------------------+\n",
      "| 11170510| 53.72945716864818|\n",
      "| 11170570| 52.45293851525186|\n",
      "| 11110650| 52.29423365193712|\n",
      "| 11410555|51.419078324371725|\n",
      "| 11545640| 51.34048648809655|\n",
      "| 11350720| 51.26484023161154|\n",
      "| 11650610|50.680037865583444|\n",
      "| 11440710| 50.45847037246713|\n",
      "| 11500560|50.304232279706945|\n",
      "| 11500530| 49.87579805293862|\n",
      "+---------+------------------+\n",
      "only showing top 10 rows\n",
      "\n"
     ]
    }
   ],
   "source": [
    "predictions.select(\"ADSTRD_CD\", \"prediction\").orderBy(\"prediction\", ascending=False).show(10)"
   ]
  },
  {
   "cell_type": "markdown",
   "id": "b0dfbbc7-15d7-41bf-91ce-54f14de60208",
   "metadata": {},
   "source": [
    "#### 1.2) 실제 데이터 확인"
   ]
  },
  {
   "cell_type": "code",
   "execution_count": 39,
   "id": "c296c06c-cff0-4558-a114-8801eedd5ff3",
   "metadata": {},
   "outputs": [
    {
     "name": "stdout",
     "output_type": "stream",
     "text": [
      "+---------+-------+------------------+\n",
      "|ADSTRD_CD|ACC_CNT|        prediction|\n",
      "+---------+-------+------------------+\n",
      "| 11170510|     12| 53.72945716864818|\n",
      "| 11170570|      3| 52.45293851525186|\n",
      "| 11110650|      1| 52.29423365193712|\n",
      "| 11410555|      9|51.419078324371725|\n",
      "| 11545640|     49| 51.34048648809655|\n",
      "| 11350720|     27| 51.26484023161154|\n",
      "| 11650610|      2|50.680037865583444|\n",
      "| 11440710|      5| 50.45847037246713|\n",
      "| 11500560|      7|50.304232279706945|\n",
      "| 11500530|    173| 49.87579805293862|\n",
      "| 11440680|    305|49.824936133818134|\n",
      "| 11560620|     34| 49.75321863463021|\n",
      "| 11680730|     46| 49.47168631146045|\n",
      "| 11200615|      2| 49.36758451527288|\n",
      "| 11620685|      6| 49.24047551371363|\n",
      "+---------+-------+------------------+\n",
      "only showing top 15 rows\n",
      "\n"
     ]
    }
   ],
   "source": [
    "# 예측값과 실제값 비교\n",
    "predictions.select(\"ADSTRD_CD\", \"ACC_CNT\", \"prediction\").orderBy(\"prediction\", ascending=False).show(15)"
   ]
  },
  {
   "cell_type": "markdown",
   "id": "832c3bdb-5bb3-416e-9bd5-1db9c1ad3155",
   "metadata": {},
   "source": [
    "### 1.3) 모델 성능 평가"
   ]
  },
  {
   "cell_type": "code",
   "execution_count": 40,
   "id": "231b3a95-ec4e-4f06-bdf9-8f1835800b88",
   "metadata": {},
   "outputs": [
    {
     "name": "stdout",
     "output_type": "stream",
     "text": [
      "Root Mean Squared Error (RMSE): 278.7591192400323\n",
      "R-Squared (R²): -0.013564485955329886\n"
     ]
    }
   ],
   "source": [
    "from pyspark.ml.evaluation import RegressionEvaluator\n",
    "\n",
    "# RMSE 계산\n",
    "rmse_evaluator = RegressionEvaluator(\n",
    "    labelCol=\"ACC_CNT\", predictionCol=\"prediction\", metricName=\"rmse\"\n",
    ")\n",
    "rmse = rmse_evaluator.evaluate(predictions)\n",
    "print(f\"Root Mean Squared Error (RMSE): {rmse}\")\n",
    "\n",
    "# R² 계산\n",
    "r2_evaluator = RegressionEvaluator(\n",
    "    labelCol=\"ACC_CNT\", predictionCol=\"prediction\", metricName=\"r2\"\n",
    ")\n",
    "r2 = r2_evaluator.evaluate(predictions)\n",
    "print(f\"R-Squared (R²): {r2}\")"
   ]
  },
  {
   "cell_type": "markdown",
   "id": "f9ffa739-113a-4f31-820b-ce6454ac391c",
   "metadata": {},
   "source": [
    "- 실제 데이터 예측을 잘 하지 못하며, 모델 성능 평가 시에도 모델의 성능이 나쁜 것으로 나타남. "
   ]
  },
  {
   "cell_type": "markdown",
   "id": "2f11bf8e-90d9-448a-b2e6-aaed469b0bd7",
   "metadata": {},
   "source": [
    "### 1.4) 데이터 시각화"
   ]
  },
  {
   "cell_type": "code",
   "execution_count": 41,
   "id": "d8f0db7b-15cd-4cba-b7da-dce8849bca34",
   "metadata": {},
   "outputs": [
    {
     "data": {
      "image/png": "[encoded data removed]",
      "text/plain": [
       "<Figure size 640x480 with 1 Axes>"
      ]
     },
     "metadata": {},
     "output_type": "display_data"
    }
   ],
   "source": [
    "import matplotlib.pyplot as plt\n",
    "import pandas as pd\n",
    "\n",
    "\n",
    "pd_df = predictions.select(\"ACC_CNT\", \"prediction\").toPandas()\n",
    "\n",
    "# 예측값 vs 실제값\n",
    "plt.scatter(pd_df[\"ACC_CNT\"], pd_df[\"prediction\"], alpha=0.5)\n",
    "plt.plot([0, max(pd_df[\"ACC_CNT\"])], [0, max(pd_df[\"ACC_CNT\"])], color='grey', linestyle='--')\n",
    "plt.xlabel(\"Actual ACC_CNT\")\n",
    "plt.ylabel(\"Predicted ACC_CNT\")\n",
    "plt.title(\"Actual vs Predicted\")\n",
    "plt.show()\n"
   ]
  },
  {
   "cell_type": "code",
   "execution_count": null,
   "id": "4bf49a56-eebe-4a46-b02a-61d057aa74d5",
   "metadata": {},
   "outputs": [],
   "source": []
  },
  {
   "cell_type": "markdown",
   "id": "253f5b4d-103c-4451-b58b-bb771e01c29c",
   "metadata": {},
   "source": [
    "### 2. 시간대별 구매 예측"
   ]
  },
  {
   "cell_type": "code",
   "execution_count": 42,
   "id": "ff5a0eef-3c66-4c23-a8f7-c483519a1f36",
   "metadata": {},
   "outputs": [
    {
     "name": "stderr",
     "output_type": "stream",
     "text": [
      "24/12/20 09:39:30 WARN Instrumentation: [c5569c8e] regParam is zero, which might cause numerical instability and overfitting.\n"
     ]
    },
    {
     "name": "stdout",
     "output_type": "stream",
     "text": [
      "+-------+-------+------------------+\n",
      "|TIME_CD|ACC_CNT|        prediction|\n",
      "+-------+-------+------------------+\n",
      "|      5|     27| 35.77159023574112|\n",
      "|      4|    305| 44.33172803216024|\n",
      "|      5|     24| 35.77159023574112|\n",
      "|      3|      1| 52.89186582857936|\n",
      "|      3|      2| 52.89186582857936|\n",
      "|      4|      2| 44.33172803216024|\n",
      "|      1|     13|  70.0121414214176|\n",
      "|      6|     30|27.211452439322002|\n",
      "|      5|      5| 35.77159023574112|\n",
      "|      2|      2| 61.45200362499848|\n",
      "|      3|      1| 52.89186582857936|\n",
      "|      6|     12|27.211452439322002|\n",
      "|      3|      1| 52.89186582857936|\n",
      "|      5|      7| 35.77159023574112|\n",
      "|      4|     20| 44.33172803216024|\n",
      "|      2|      5| 61.45200362499848|\n",
      "|      4|     17| 44.33172803216024|\n",
      "|      5|      3| 35.77159023574112|\n",
      "|      3|      1| 52.89186582857936|\n",
      "|      3|      1| 52.89186582857936|\n",
      "+-------+-------+------------------+\n",
      "only showing top 20 rows\n",
      "\n"
     ]
    }
   ],
   "source": [
    "# VectorAssembler로 피처 생성\n",
    "assembler = VectorAssembler(\n",
    "    inputCols=[\"TIME_CD\"],  # 모델 입력 피처\n",
    "    outputCol=\"features\"\n",
    ")\n",
    "time_df = assembler.transform(a_df)\n",
    "\n",
    "# 데이터 분할\n",
    "train_df, test_df = time_df.randomSplit([0.8, 0.2], seed=42)\n",
    "\n",
    "# 모델 정의 및 학습\n",
    "from pyspark.ml.regression import LinearRegression\n",
    "\n",
    "lr = LinearRegression(featuresCol=\"features\", labelCol=\"ACC_CNT\")  # 타깃 변수는 ACC_CNT\n",
    "lr_model = lr.fit(train_df)\n",
    "\n",
    "# 예측 수행\n",
    "predictions = lr_model.transform(test_df)\n",
    "\n",
    "# 결과 확인\n",
    "predictions.select(\"TIME_CD\", \"ACC_CNT\", \"prediction\").show()\n"
   ]
  },
  {
   "cell_type": "code",
   "execution_count": 43,
   "id": "93443bed-d708-4c77-a59c-ae6e145d4232",
   "metadata": {},
   "outputs": [
    {
     "name": "stdout",
     "output_type": "stream",
     "text": [
      "Root Mean Squared Error (RMSE): 279.6726659613162\n",
      "R-Squared (R²): -0.020218659306897147\n"
     ]
    }
   ],
   "source": [
    "from pyspark.ml.evaluation import RegressionEvaluator\n",
    "\n",
    "# RMSE 계산\n",
    "rmse_evaluator = RegressionEvaluator(labelCol=\"ACC_CNT\", predictionCol=\"prediction\", metricName=\"rmse\")\n",
    "rmse = rmse_evaluator.evaluate(predictions)\n",
    "print(f\"Root Mean Squared Error (RMSE): {rmse}\")\n",
    "\n",
    "# R² 계산\n",
    "r2_evaluator = RegressionEvaluator(labelCol=\"ACC_CNT\", predictionCol=\"prediction\", metricName=\"r2\")\n",
    "r2 = r2_evaluator.evaluate(predictions)\n",
    "print(f\"R-Squared (R²): {r2}\")"
   ]
  },
  {
   "cell_type": "code",
   "execution_count": 45,
   "id": "9b495275-6d36-458d-98fa-ad5f326cd254",
   "metadata": {},
   "outputs": [
    {
     "data": {
      "image/png": "[encoded data removed]",
      "text/plain": [
       "<Figure size 640x480 with 1 Axes>"
      ]
     },
     "metadata": {},
     "output_type": "display_data"
    }
   ],
   "source": [
    "pd_df = predictions.select(\"ACC_CNT\", \"prediction\").toPandas()\n",
    "\n",
    "# 예측값 vs 실제값\n",
    "plt.scatter(pd_df[\"ACC_CNT\"], pd_df[\"prediction\"], alpha=0.5)\n",
    "plt.plot([0, max(pd_df[\"ACC_CNT\"])], [0, max(pd_df[\"ACC_CNT\"])], color='grey', linestyle='--')\n",
    "plt.xlabel(\"Actual ACC_CNT\")\n",
    "plt.ylabel(\"Predicted ACC_CNT\")\n",
    "plt.title(\"Actual vs Predicted\")\n",
    "plt.show()"
   ]
  },
  {
   "cell_type": "code",
   "execution_count": null,
   "id": "3b75285e-a479-45ac-a311-e7682731617e",
   "metadata": {},
   "outputs": [],
   "source": []
  },
  {
   "cell_type": "markdown",
   "id": "e19392fa-9c09-4528-80f6-c5e9cf7dc312",
   "metadata": {},
   "source": [
    "### 3) 기준연월에 따른 소비 예측"
   ]
  },
  {
   "cell_type": "code",
   "execution_count": 46,
   "id": "7888dd8f-7e2f-4fbc-9539-6ffd6119b6ae",
   "metadata": {},
   "outputs": [],
   "source": [
    "b_df = df.select(\"STD_YM\", \"ADSTRD_CD\", \"STAT_CD\", \"SEX_CD\", \"AGE_CD\", \"TIME_CD\", \"PURH_CNT\", \"PURH_AMT\")"
   ]
  },
  {
   "cell_type": "code",
   "execution_count": 47,
   "id": "9431ad8a-ea4c-44f5-90f1-08f81adfcd75",
   "metadata": {},
   "outputs": [
    {
     "name": "stdout",
     "output_type": "stream",
     "text": [
      "+-------+------------------+------------------+-------+-------------------+------------------+------------------+-----------------+-----------------+\n",
      "|summary|            STD_YM|         ADSTRD_CD|STAT_CD|             SEX_CD|            AGE_CD|           TIME_CD|         PURH_CNT|         PURH_AMT|\n",
      "+-------+------------------+------------------+-------+-------------------+------------------+------------------+-----------------+-----------------+\n",
      "|  count|               500|               500|    500|                500|               500|               500|              500|              500|\n",
      "|   mean|        201853.004|    1.1435948382E7|   null|              1.526|             4.074|             3.932|            99.12|         722868.0|\n",
      "| stddev|50.132329738103536|185625.45644591315|   null|0.49982361618333826|1.6067630113832891|1.4026085060495268|373.8095514583904|3561238.085269778|\n",
      "|    min|            201801|          11110530|      A|                  1|                 1|                 1|                1|             1000|\n",
      "|    max|            201912|          11740700|      L|                  2|                 7|                 6|             4760|         64841000|\n",
      "+-------+------------------+------------------+-------+-------------------+------------------+------------------+-----------------+-----------------+\n",
      "\n"
     ]
    }
   ],
   "source": [
    "b_df.describe().show()"
   ]
  },
  {
   "cell_type": "code",
   "execution_count": 49,
   "id": "dee3d3ca-3805-498b-9c9b-db1ccf963318",
   "metadata": {},
   "outputs": [
    {
     "name": "stderr",
     "output_type": "stream",
     "text": [
      "                                                                                "
     ]
    },
    {
     "name": "stdout",
     "output_type": "stream",
     "text": [
      "+------+-----+\n",
      "|STD_YM|count|\n",
      "+------+-----+\n",
      "|201803|   32|\n",
      "|201810|   29|\n",
      "|201802|   26|\n",
      "|201805|   25|\n",
      "|201907|   23|\n",
      "|201812|   23|\n",
      "|201908|   23|\n",
      "|201910|   22|\n",
      "|201904|   21|\n",
      "|201806|   21|\n",
      "|201901|   21|\n",
      "|201801|   21|\n",
      "|201905|   20|\n",
      "|201808|   20|\n",
      "|201809|   20|\n",
      "|201909|   19|\n",
      "|201906|   19|\n",
      "|201804|   18|\n",
      "|201902|   18|\n",
      "|201811|   17|\n",
      "+------+-----+\n",
      "only showing top 20 rows\n",
      "\n"
     ]
    },
    {
     "name": "stderr",
     "output_type": "stream",
     "text": [
      "                                                                                "
     ]
    },
    {
     "data": {
      "text/plain": [
       "24"
      ]
     },
     "execution_count": 49,
     "metadata": {},
     "output_type": "execute_result"
    }
   ],
   "source": [
    "b_df.groupBy(\"STD_YM\").count().orderBy(\"count\", ascending=False).show()\n",
    "b_df.groupBy(\"STD_YM\").count().orderBy(\"count\", ascending=False).count()"
   ]
  },
  {
   "cell_type": "code",
   "execution_count": 57,
   "id": "b66c84dd-cb77-4832-8990-44f0818230f8",
   "metadata": {},
   "outputs": [
    {
     "name": "stdout",
     "output_type": "stream",
     "text": [
      "+------+------------+\n",
      "|STD_YM|PURH_AMT_SUM|\n",
      "+------+------------+\n",
      "|201805|     9453000|\n",
      "|201905|    25810000|\n",
      "|201910|    19267000|\n",
      "|201909|    18972000|\n",
      "|201802|    24765000|\n",
      "|201809|     6924000|\n",
      "|201912|     2759000|\n",
      "|201906|     3723000|\n",
      "|201902|    72167000|\n",
      "|201806|     5246000|\n",
      "|201812|     4861000|\n",
      "|201901|     4848000|\n",
      "|201908|     6885000|\n",
      "|201801|    12299000|\n",
      "|201808|     7877000|\n",
      "|201807|     7963000|\n",
      "|201904|     7458000|\n",
      "|201810|    48003000|\n",
      "|201804|    21874000|\n",
      "|201811|     7579000|\n",
      "+------+------------+\n",
      "only showing top 20 rows\n",
      "\n"
     ]
    }
   ],
   "source": [
    "# STD_YM별 데이터 합산\n",
    "std_ym_df = b_df.groupBy(\"STD_YM\").agg(\n",
    "    {\"PURH_AMT\": \"sum\"}\n",
    ").withColumnRenamed(\"sum(PURH_AMT)\", \"PURH_AMT_SUM\")\n",
    "\n",
    "# 결과 확인\n",
    "std_ym_df.show()"
   ]
  },
  {
   "cell_type": "code",
   "execution_count": 58,
   "id": "df10a050-d006-499e-a04b-7003645365b1",
   "metadata": {},
   "outputs": [
    {
     "name": "stderr",
     "output_type": "stream",
     "text": [
      "                                                                                "
     ]
    }
   ],
   "source": [
    "from pyspark.ml.feature import StringIndexer, VectorAssembler\n",
    "\n",
    "# STD_YM 인코딩\n",
    "indexer = StringIndexer(inputCol=\"STD_YM\", outputCol=\"STD_YM_Index\")\n",
    "std_ym_df = indexer.fit(std_ym_df).transform(std_ym_df)"
   ]
  },
  {
   "cell_type": "code",
   "execution_count": 59,
   "id": "066792d5-1039-43b8-9fd1-f49837fdfeb5",
   "metadata": {},
   "outputs": [],
   "source": [
    "# VectorAssembler로 피처 생성\n",
    "assembler = VectorAssembler(\n",
    "    inputCols=[\"STD_YM_Index\"],  # 입력 피처\n",
    "    outputCol=\"features\"\n",
    ")\n",
    "std_ym_df = assembler.transform(std_ym_df)"
   ]
  },
  {
   "cell_type": "code",
   "execution_count": 60,
   "id": "87620391-a045-46e6-800a-01d685e4c020",
   "metadata": {},
   "outputs": [
    {
     "name": "stdout",
     "output_type": "stream",
     "text": [
      "+------+------------+------------+--------+\n",
      "|STD_YM|PURH_AMT_SUM|STD_YM_Index|features|\n",
      "+------+------------+------------+--------+\n",
      "|201805|     9453000|         4.0|   [4.0]|\n",
      "|201905|    25810000|        16.0|  [16.0]|\n",
      "|201910|    19267000|        21.0|  [21.0]|\n",
      "+------+------------+------------+--------+\n",
      "only showing top 3 rows\n",
      "\n"
     ]
    },
    {
     "name": "stderr",
     "output_type": "stream",
     "text": [
      "                                                                                "
     ]
    },
    {
     "name": "stdout",
     "output_type": "stream",
     "text": [
      "+------+------------+------------+--------+\n",
      "|STD_YM|PURH_AMT_SUM|STD_YM_Index|features|\n",
      "+------+------------+------------+--------+\n",
      "|201912|     2759000|        23.0|  [23.0]|\n",
      "|201811|     7579000|        10.0|  [10.0]|\n",
      "|201907|    10931000|        18.0|  [18.0]|\n",
      "+------+------------+------------+--------+\n",
      "\n"
     ]
    }
   ],
   "source": [
    "# 데이터 분할\n",
    "train_df, test_df = std_ym_df.randomSplit([0.8, 0.2], seed=42)\n",
    "train_df.show(3)\n",
    "test_df.show(3)"
   ]
  },
  {
   "cell_type": "code",
   "execution_count": 61,
   "id": "ce84f66b-592f-4f82-8bfd-177e6f9d18f7",
   "metadata": {},
   "outputs": [
    {
     "name": "stderr",
     "output_type": "stream",
     "text": [
      "24/12/20 11:17:09 WARN Instrumentation: [e3a4cb63] regParam is zero, which might cause numerical instability and overfitting.\n",
      "                                                                                "
     ]
    },
    {
     "name": "stdout",
     "output_type": "stream",
     "text": [
      "+------+------------+--------------------+\n",
      "|STD_YM|PURH_AMT_SUM|          prediction|\n",
      "+------+------------+--------------------+\n",
      "|201912|     2759000| 1.474287097094118E7|\n",
      "|201811|     7579000|1.6282953238123577E7|\n",
      "|201907|    10931000|1.5335210304472871E7|\n",
      "+------+------------+--------------------+\n",
      "\n"
     ]
    }
   ],
   "source": [
    "from pyspark.ml.regression import LinearRegression\n",
    "\n",
    "# 모델 정의 및 학습\n",
    "lr = LinearRegression(featuresCol=\"features\", labelCol=\"PURH_AMT_SUM\")\n",
    "lr_model = lr.fit(train_df)\n",
    "\n",
    "# 예측 수행\n",
    "predictions = lr_model.transform(test_df)\n",
    "\n",
    "# 결과 확인\n",
    "predictions.select(\"STD_YM\", \"STD_YM_Index\", \"PURH_AMT_SUM\", \"prediction\").show()\n"
   ]
  },
  {
   "cell_type": "code",
   "execution_count": 62,
   "id": "08b34ef7-96b0-4366-b1a7-92446064f5b9",
   "metadata": {},
   "outputs": [
    {
     "name": "stderr",
     "output_type": "stream",
     "text": [
      "[Stage 177:================================================>    (184 + 2) / 200]"
     ]
    },
    {
     "name": "stdout",
     "output_type": "stream",
     "text": [
      "Root Mean Squared Error (RMSE): 8921304.72194947\n"
     ]
    },
    {
     "name": "stderr",
     "output_type": "stream",
     "text": [
      "[Stage 180:===============================================>     (178 + 3) / 200]"
     ]
    },
    {
     "name": "stdout",
     "output_type": "stream",
     "text": [
      "R-Squared (R²): -6.074645865059139\n"
     ]
    },
    {
     "name": "stderr",
     "output_type": "stream",
     "text": [
      "                                                                                "
     ]
    }
   ],
   "source": [
    "from pyspark.ml.evaluation import RegressionEvaluator\n",
    "\n",
    "# RMSE 계산\n",
    "rmse_evaluator = RegressionEvaluator(labelCol=\"PURH_AMT_SUM\", predictionCol=\"prediction\", metricName=\"rmse\")\n",
    "rmse = rmse_evaluator.evaluate(predictions)\n",
    "print(f\"Root Mean Squared Error (RMSE): {rmse}\")\n",
    "\n",
    "# R² 계산\n",
    "r2_evaluator = RegressionEvaluator(labelCol=\"PURH_AMT_SUM\", predictionCol=\"prediction\", metricName=\"r2\")\n",
    "r2 = r2_evaluator.evaluate(predictions)\n",
    "print(f\"R-Squared (R²): {r2}\")\n"
   ]
  },
  {
   "cell_type": "code",
   "execution_count": null,
   "id": "6a33c4a5-f81a-4fa3-8cbb-f0e357880a6c",
   "metadata": {},
   "outputs": [],
   "source": []
  },
  {
   "cell_type": "markdown",
   "id": "ae0e316f-c3b8-469e-8787-6e742fdb73f8",
   "metadata": {},
   "source": [
    "### 4) 다중 피처 입력을 통한 소비 예측"
   ]
  },
  {
   "cell_type": "code",
   "execution_count": 63,
   "id": "57996502-fae2-4305-8747-44c2823c89c0",
   "metadata": {},
   "outputs": [],
   "source": [
    "c_df = df.select(\"STD_YM\", \"ADSTRD_CD\", \"SEX_CD\", \"AGE_CD\", \"TIME_CD\", \"PURH_CNT\", \"ACC_CNT\")"
   ]
  },
  {
   "cell_type": "code",
   "execution_count": 78,
   "id": "39a3a76a-0abc-4849-bbc1-98bde4db579f",
   "metadata": {},
   "outputs": [],
   "source": [
    "from pyspark.ml.feature import StringIndexer\n",
    "\n",
    "# 범주형 데이터 인코딩\n",
    "indexers = [\n",
    "    StringIndexer(inputCol=col, outputCol=col + \"_Index\") \n",
    "    for col in [\"STD_YM\", \"ADSTRD_CD\", \"SEX_CD\", \"AGE_CD\", \"TIME_CD\"]\n",
    "]"
   ]
  },
  {
   "cell_type": "code",
   "execution_count": 79,
   "id": "1121234f-5e89-401f-8702-ce05eebc2be7",
   "metadata": {},
   "outputs": [],
   "source": [
    "from pyspark.ml.feature import VectorAssembler\n",
    "\n",
    "input_features = [\"STD_YM_Index\", \"ADSTRD_CD_Index\", \"SEX_CD_Index\", \"AGE_CD_Index\", \"TIME_CD_Index\", \"PURH_CNT\"]\n",
    "assembler = VectorAssembler(inputCols=input_features, outputCol=\"features\")\n",
    "c_df = assembler.transform(c_df)"
   ]
  },
  {
   "cell_type": "code",
   "execution_count": 80,
   "id": "7d28fa45-a4b8-4c8c-bf30-56b2cce21c99",
   "metadata": {},
   "outputs": [],
   "source": [
    "# 데이터 분할\n",
    "train_df, test_df = c_df.randomSplit([0.8, 0.2], seed=42)"
   ]
  },
  {
   "cell_type": "code",
   "execution_count": 81,
   "id": "5eee0798-f01b-4ecc-8cf2-f69854fab3fa",
   "metadata": {},
   "outputs": [
    {
     "name": "stdout",
     "output_type": "stream",
     "text": [
      "['STD_YM', 'ADSTRD_CD', 'SEX_CD', 'AGE_CD', 'TIME_CD', 'PURH_CNT', 'ACC_CNT', 'STD_YM_Index', 'ADSTRD_CD_Index', 'SEX_CD_Index', 'AGE_CD_Index', 'TIME_CD_Index', 'features']\n"
     ]
    }
   ],
   "source": [
    "print(train_df.columns)"
   ]
  },
  {
   "cell_type": "code",
   "execution_count": 85,
   "id": "57b33fda-dd28-4e70-8fa0-04ef116e1189",
   "metadata": {},
   "outputs": [],
   "source": [
    "from pyspark.ml.regression import LinearRegression\n",
    "\n",
    "# Linear Regression 모델 설정\n",
    "lr = LinearRegression(featuresCol=\"features\", labelCol=\"ACC_CNT\", regParam=0.1, elasticNetParam=0.5)\n",
    "\n",
    "# 모델 학습\n",
    "lr_model = lr.fit(train_df)"
   ]
  },
  {
   "cell_type": "code",
   "execution_count": 86,
   "id": "dc2ffe9b-7c5f-426d-9804-a718377ac5c7",
   "metadata": {},
   "outputs": [
    {
     "name": "stdout",
     "output_type": "stream",
     "text": [
      "+------+---------+-------+------------------+\n",
      "|STD_YM|ADSTRD_CD|ACC_CNT|        prediction|\n",
      "+------+---------+-------+------------------+\n",
      "|201801| 11350720|     27|47.831726988871864|\n",
      "|201801| 11440680|    305| 43.34026623552272|\n",
      "|201801| 11470570|     24| 45.18766637804431|\n",
      "|201801| 11620625|      1|40.654947424656015|\n",
      "|201801| 11740540|      2|  53.7554498383928|\n",
      "|201802| 11200615|      2|39.352534376014816|\n",
      "|201802| 11320512|     13| 34.56807939611056|\n",
      "|201802| 11380580|     30| 37.03300840500275|\n",
      "|201802| 11710600|      5|  38.4066226541641|\n",
      "|201802| 11710642|      2|37.262301066279775|\n",
      "+------+---------+-------+------------------+\n",
      "only showing top 10 rows\n",
      "\n"
     ]
    }
   ],
   "source": [
    "# 예측 수행\n",
    "predictions = lr_model.transform(test_df)\n",
    "\n",
    "# 결과 확인\n",
    "predictions.select(\"STD_YM\", \"ADSTRD_CD\", \"ACC_CNT\", \"prediction\").show(10)\n"
   ]
  },
  {
   "cell_type": "code",
   "execution_count": 87,
   "id": "f914f1df-9458-47ba-b69c-05f1bfe873d7",
   "metadata": {},
   "outputs": [
    {
     "name": "stdout",
     "output_type": "stream",
     "text": [
      "Root Mean Squared Error (RMSE): 279.498024386074\n",
      "R-Squared (R²): -0.018252849014983363\n"
     ]
    }
   ],
   "source": [
    "from pyspark.ml.evaluation import RegressionEvaluator\n",
    "\n",
    "# RMSE 계산\n",
    "rmse_evaluator = RegressionEvaluator(labelCol=\"ACC_CNT\", predictionCol=\"prediction\", metricName=\"rmse\")\n",
    "rmse = rmse_evaluator.evaluate(predictions)\n",
    "print(f\"Root Mean Squared Error (RMSE): {rmse}\")\n",
    "\n",
    "# R² 계산\n",
    "r2_evaluator = RegressionEvaluator(labelCol=\"ACC_CNT\", predictionCol=\"prediction\", metricName=\"r2\")\n",
    "r2 = r2_evaluator.evaluate(predictions)\n",
    "print(f\"R-Squared (R²): {r2}\")"
   ]
  },
  {
   "cell_type": "code",
   "execution_count": null,
   "id": "7a31723f-0458-4e5e-8ed9-2053ba72add6",
   "metadata": {},
   "outputs": [],
   "source": []
  },
  {
   "cell_type": "code",
   "execution_count": null,
   "id": "2fc68cc2-8135-4210-a18e-8108a30b9b41",
   "metadata": {},
   "outputs": [],
   "source": []
  },
  {
   "cell_type": "markdown",
   "id": "55d96455-c8a6-4192-a070-351b2625223f",
   "metadata": {},
   "source": [
    "### 추후 분석 방향 제시\n",
    "1) 기준연월별 분석 > 원데이터(숫자)인 상태로 다시 분석\n",
    "2) count를 feature에 추가해서 학습\n",
    "\n",
    "   \n",
    "4) 행정구역별 구매 > 행정구역별 구매자수or금액 sum한 후 다시 예측"
   ]
  },
  {
   "cell_type": "code",
   "execution_count": null,
   "id": "ba04dd48-2046-45b7-be0d-1d2048ab49d0",
   "metadata": {},
   "outputs": [],
   "source": []
  },
  {
   "cell_type": "code",
   "execution_count": null,
   "id": "e8a633ca-2b80-42b9-8fc9-91dbc7b906ff",
   "metadata": {},
   "outputs": [],
   "source": []
  },
  {
   "cell_type": "code",
   "execution_count": null,
   "id": "74bdc0a4-f024-411b-ab95-848c0ce98852",
   "metadata": {},
   "outputs": [],
   "source": []
  }
 ],
 "metadata": {
  "kernelspec": {
   "display_name": "Python (spark_start)",
   "language": "python",
   "name": "spark_start"
  },
  "language_info": {
   "codemirror_mode": {
    "name": "ipython",
    "version": 3
   },
   "file_extension": ".py",
   "mimetype": "text/x-python",
   "name": "python",
   "nbconvert_exporter": "python",
   "pygments_lexer": "ipython3",
   "version": "3.8.20"
  }
 },
 "nbformat": 4,
 "nbformat_minor": 5
}
