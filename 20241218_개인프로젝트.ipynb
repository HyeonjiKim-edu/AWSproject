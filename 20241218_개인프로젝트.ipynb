{
 "cells": [
  {
   "cell_type": "markdown",
   "id": "5b66e6ea-4ee1-4d5e-a14b-893da845ac4b",
   "metadata": {},
   "source": [
    "# 개인 프로젝트 : 구매 예측 프로젝트\n",
    "    - 특정 시간대 별 구매 활성 여부를 예측"
   ]
  },
  {
   "cell_type": "markdown",
   "id": "841bc902-fdfc-45e8-9c5b-aebf9a628e23",
   "metadata": {},
   "source": [
    "## 1. 데이터 로드"
   ]
  },
  {
   "cell_type": "code",
   "execution_count": 1,
   "id": "6695fca5-d2f5-4c13-9723-1cd74be8600d",
   "metadata": {},
   "outputs": [
    {
     "name": "stderr",
     "output_type": "stream",
     "text": [
      "24/12/19 10:28:58 WARN NativeCodeLoader: Unable to load native-hadoop library for your platform... using builtin-java classes where applicable\n",
      "Using Spark's default log4j profile: org/apache/spark/log4j-defaults.properties\n",
      "Setting default log level to \"WARN\".\n",
      "To adjust logging level use sc.setLogLevel(newLevel). For SparkR, use setLogLevel(newLevel).\n"
     ]
    }
   ],
   "source": [
    "from pyspark.sql import SparkSession\n",
    "\n",
    "spark = SparkSession.builder.appName(\"241218_analyze_project\").getOrCreate()"
   ]
  },
  {
   "cell_type": "code",
   "execution_count": 108,
   "id": "7fdc9a57-f2c7-4c6a-82ff-617440a87880",
   "metadata": {},
   "outputs": [],
   "source": [
    "df = spark.read.format(\"csv\")\\\n",
    "    .option(\"header\", 'true')\\\n",
    "    .option('inferSchema', 'true')\\\n",
    "    .option('encoding', 'CP949')\\\n",
    "    .load('data/거주지(소비자)기준 행정동별 상품판매.csv')"
   ]
  },
  {
   "cell_type": "code",
   "execution_count": 109,
   "id": "6ede99b6-910c-4573-9394-40475d9b5f8c",
   "metadata": {},
   "outputs": [
    {
     "name": "stdout",
     "output_type": "stream",
     "text": [
      "+----------------+---------------------+-----------------------+----------------+------------------+-------------------+--------------------+------------------+------------------+\n",
      "|기준년월(STD_YM)|행정동코드(ADSTRD_CD)|통계청상품코드(STAT_CD)|성별코드(SEX_CD)|연령대코드(AGE_CD)|시간대코드(TIME_CD)|구매_고객수(ACC_CNT)|구매건수(PURH_CNT)|구매금액(PURH_AMT)|\n",
      "+----------------+---------------------+-----------------------+----------------+------------------+-------------------+--------------------+------------------+------------------+\n",
      "|          201907|             11200720|                      E|               1|                 4|                  5|                   5|                16|            436000|\n",
      "|          201809|             11140635|                      E|               1|                 7|                  4|                 179|                18|            110000|\n",
      "|          201805|             11380632|                      J|               2|                 3|                  5|                   5|                 2|              1000|\n",
      "+----------------+---------------------+-----------------------+----------------+------------------+-------------------+--------------------+------------------+------------------+\n",
      "only showing top 3 rows\n",
      "\n"
     ]
    }
   ],
   "source": [
    "df.show(3)"
   ]
  },
  {
   "cell_type": "code",
   "execution_count": 110,
   "id": "05fc61fe-e249-48d5-9008-5912c4a1f6a5",
   "metadata": {},
   "outputs": [
    {
     "name": "stdout",
     "output_type": "stream",
     "text": [
      "root\n",
      " |-- 기준년월(STD_YM): integer (nullable = true)\n",
      " |-- 행정동코드(ADSTRD_CD): integer (nullable = true)\n",
      " |-- 통계청상품코드(STAT_CD): string (nullable = true)\n",
      " |-- 성별코드(SEX_CD): integer (nullable = true)\n",
      " |-- 연령대코드(AGE_CD): integer (nullable = true)\n",
      " |-- 시간대코드(TIME_CD): integer (nullable = true)\n",
      " |-- 구매_고객수(ACC_CNT): integer (nullable = true)\n",
      " |-- 구매건수(PURH_CNT): integer (nullable = true)\n",
      " |-- 구매금액(PURH_AMT): integer (nullable = true)\n",
      "\n"
     ]
    }
   ],
   "source": [
    "df.printSchema()"
   ]
  },
  {
   "cell_type": "code",
   "execution_count": 111,
   "id": "a8fe2a8c-9daa-43f8-8e00-3b259ae3a333",
   "metadata": {},
   "outputs": [
    {
     "data": {
      "text/plain": [
       "500"
      ]
     },
     "execution_count": 111,
     "metadata": {},
     "output_type": "execute_result"
    }
   ],
   "source": [
    "df.count()"
   ]
  },
  {
   "cell_type": "markdown",
   "id": "1adf1fd5-1bd7-410e-b1c3-ad5cac50ff54",
   "metadata": {},
   "source": [
    "## 2. 데이터 전처리"
   ]
  },
  {
   "cell_type": "markdown",
   "id": "35db71d5-bc9e-4917-8f6e-c404c0fa3cc5",
   "metadata": {},
   "source": [
    "### 1) 결측치 확인"
   ]
  },
  {
   "cell_type": "code",
   "execution_count": 112,
   "id": "422d2d4d-d4ed-4ee2-a97f-cdf6350b6593",
   "metadata": {},
   "outputs": [
    {
     "name": "stdout",
     "output_type": "stream",
     "text": [
      "+----------------+---------------------+-----------------------+----------------+------------------+-------------------+--------------------+------------------+------------------+\n",
      "|기준년월(STD_YM)|행정동코드(ADSTRD_CD)|통계청상품코드(STAT_CD)|성별코드(SEX_CD)|연령대코드(AGE_CD)|시간대코드(TIME_CD)|구매_고객수(ACC_CNT)|구매건수(PURH_CNT)|구매금액(PURH_AMT)|\n",
      "+----------------+---------------------+-----------------------+----------------+------------------+-------------------+--------------------+------------------+------------------+\n",
      "|               0|                    0|                      0|               0|                 0|                  0|                   0|                 0|                 0|\n",
      "+----------------+---------------------+-----------------------+----------------+------------------+-------------------+--------------------+------------------+------------------+\n",
      "\n"
     ]
    }
   ],
   "source": [
    "from pyspark.sql.functions import col, isnan, when, count\n",
    "\n",
    "\n",
    "df.select(\n",
    "    [count(when(col(c).isNull() | isnan(col(c)), c)).alias(c) for c in df.columns]\n",
    ").show()"
   ]
  },
  {
   "cell_type": "markdown",
   "id": "cc3ea3fc-f261-4772-a4a3-c32ce5530e79",
   "metadata": {},
   "source": [
    "### 2) 데이터 열 이름 변경"
   ]
  },
  {
   "cell_type": "code",
   "execution_count": 113,
   "id": "23cdfdb4-53f5-447b-ab89-de4eb7959eec",
   "metadata": {},
   "outputs": [
    {
     "name": "stdout",
     "output_type": "stream",
     "text": [
      "['STD_YM', 'ADSTRD_CD', 'STAT_CD', 'SEX_CD', 'AGE_CD', 'TIME_CD', 'ACC_CNT', 'PURH_CNT', 'PURH_AMT']\n"
     ]
    }
   ],
   "source": [
    "# 열 이름에서 영어 코드만 추출\n",
    "new_columns = [col.split(\"(\")[-1].replace(\")\", \"\") for col in df.columns]  # 영어 코드만 추출\n",
    "df = df.toDF(*new_columns)  # 새 열 이름 적용\n",
    "\n",
    "# 결과 열 이름 확인\n",
    "print(df.columns)"
   ]
  },
  {
   "cell_type": "markdown",
   "id": "cce9b0a8-18c4-426c-be56-cec4e813331b",
   "metadata": {},
   "source": [
    "### 3) 분석에 활용할 데이터 선택"
   ]
  },
  {
   "cell_type": "code",
   "execution_count": 114,
   "id": "8216c797-a005-447f-80af-ae8d7b9d30eb",
   "metadata": {},
   "outputs": [],
   "source": [
    "a_df = df.select(\"ADSTRD_CD\", \"STAT_CD\", \"SEX_CD\", \"AGE_CD\", \"TIME_CD\", \"ACC_CNT\", \"PURH_CNT\")"
   ]
  },
  {
   "cell_type": "code",
   "execution_count": 115,
   "id": "15de9deb-6b98-4769-bb0e-c2ee93673257",
   "metadata": {},
   "outputs": [
    {
     "name": "stdout",
     "output_type": "stream",
     "text": [
      "+---------+-------+------+------+-------+-------+--------+\n",
      "|ADSTRD_CD|STAT_CD|SEX_CD|AGE_CD|TIME_CD|ACC_CNT|PURH_CNT|\n",
      "+---------+-------+------+------+-------+-------+--------+\n",
      "| 11200720|      E|     1|     4|      5|      5|      16|\n",
      "| 11140635|      E|     1|     7|      4|    179|      18|\n",
      "| 11380632|      J|     2|     3|      5|      5|       2|\n",
      "+---------+-------+------+------+-------+-------+--------+\n",
      "only showing top 3 rows\n",
      "\n"
     ]
    }
   ],
   "source": [
    "a_df.show(3)"
   ]
  },
  {
   "cell_type": "markdown",
   "id": "61da335a-2361-4e7e-8645-22d423e3e1bb",
   "metadata": {},
   "source": [
    "## 3. 데이터 기초 분석"
   ]
  },
  {
   "cell_type": "markdown",
   "id": "3c0387bb-b731-4c48-aac6-f17e5773b30e",
   "metadata": {},
   "source": [
    "### 1) 기술통계치 확인"
   ]
  },
  {
   "cell_type": "code",
   "execution_count": 129,
   "id": "7e158378-b857-4d8d-9337-0bdc654f2f6d",
   "metadata": {},
   "outputs": [
    {
     "name": "stdout",
     "output_type": "stream",
     "text": [
      "+-------+------------------+-------+-------------------+------------------+------------------+------------------+-----------------+\n",
      "|summary|         ADSTRD_CD|STAT_CD|             SEX_CD|            AGE_CD|           TIME_CD|           ACC_CNT|         PURH_CNT|\n",
      "+-------+------------------+-------+-------------------+------------------+------------------+------------------+-----------------+\n",
      "|  count|               500|    500|                500|               500|               500|               500|              500|\n",
      "|   mean|    1.1435948382E7|   null|              1.526|             4.074|             3.932|            49.024|            99.12|\n",
      "| stddev|185625.45644591315|   null|0.49982361618333826|1.6067630113832891|1.4026085060495268|178.35805171964188|373.8095514583904|\n",
      "|    min|          11110530|      A|                  1|                 1|                 1|                 1|                1|\n",
      "|    max|          11740700|      L|                  2|                 7|                 6|              2529|             4760|\n",
      "+-------+------------------+-------+-------------------+------------------+------------------+------------------+-----------------+\n",
      "\n"
     ]
    }
   ],
   "source": [
    "a_df.describe().show()"
   ]
  },
  {
   "cell_type": "code",
   "execution_count": 133,
   "id": "d80ec208-fe1d-461b-9e9c-07bd9cc3a20a",
   "metadata": {},
   "outputs": [
    {
     "name": "stdout",
     "output_type": "stream",
     "text": [
      "+---------+-----+\n",
      "|ADSTRD_CD|count|\n",
      "+---------+-----+\n",
      "| 11410565|    6|\n",
      "| 11680690|    6|\n",
      "| 11230705|    5|\n",
      "| 11710647|    5|\n",
      "| 11650530|    5|\n",
      "| 11530540|    4|\n",
      "| 11380552|    4|\n",
      "| 11200560|    4|\n",
      "| 11380530|    4|\n",
      "| 11710650|    4|\n",
      "| 11560540|    4|\n",
      "| 11710642|    4|\n",
      "| 11590680|    4|\n",
      "| 11410655|    4|\n",
      "| 11215730|    3|\n",
      "| 11710610|    3|\n",
      "| 11470600|    3|\n",
      "| 11305590|    3|\n",
      "| 11680700|    3|\n",
      "| 11680521|    3|\n",
      "+---------+-----+\n",
      "only showing top 20 rows\n",
      "\n"
     ]
    },
    {
     "name": "stderr",
     "output_type": "stream",
     "text": [
      "                                                                                "
     ]
    }
   ],
   "source": [
    "a_df.groupBy(\"ADSTRD_CD\").count().orderBy(\"count\", ascending=False).show()"
   ]
  },
  {
   "cell_type": "code",
   "execution_count": 136,
   "id": "587101a8-5b3f-4e32-812f-81944a0359b3",
   "metadata": {},
   "outputs": [
    {
     "data": {
      "text/plain": [
       "294"
      ]
     },
     "execution_count": 136,
     "metadata": {},
     "output_type": "execute_result"
    }
   ],
   "source": [
    "a_df.groupBy(\"ADSTRD_CD\").count().orderBy(\"count\", ascending=False).count()"
   ]
  },
  {
   "cell_type": "code",
   "execution_count": 137,
   "id": "f839d25d-0f90-4e73-a282-695c9539d1e5",
   "metadata": {},
   "outputs": [
    {
     "name": "stdout",
     "output_type": "stream",
     "text": [
      "+-------+-----+\n",
      "|STAT_CD|count|\n",
      "+-------+-----+\n",
      "|      F|   17|\n",
      "|      E|   95|\n",
      "|      B|   87|\n",
      "|      L|   79|\n",
      "|      C|   30|\n",
      "|      J|   35|\n",
      "|      A|   99|\n",
      "|      G|   19|\n",
      "|      I|   39|\n",
      "+-------+-----+\n",
      "\n",
      "+------+-----+\n",
      "|SEX_CD|count|\n",
      "+------+-----+\n",
      "|     1|  237|\n",
      "|     2|  263|\n",
      "+------+-----+\n",
      "\n",
      "+-------+-----+\n",
      "|TIME_CD|count|\n",
      "+-------+-----+\n",
      "|      1|   21|\n",
      "|      6|   83|\n",
      "|      3|  123|\n",
      "|      5|  104|\n",
      "|      4|  110|\n",
      "|      2|   59|\n",
      "+-------+-----+\n",
      "\n"
     ]
    }
   ],
   "source": [
    "a_df.groupBy(\"STAT_CD\").count().show()\n",
    "a_df.groupBy(\"SEX_CD\").count().show()\n",
    "a_df.groupBy(\"TIME_CD\").count().show()"
   ]
  },
  {
   "cell_type": "markdown",
   "id": "65cb50f9-f848-45b1-9f19-3d1ad46bf522",
   "metadata": {},
   "source": [
    "### 2) 데이터 분포 확인"
   ]
  },
  {
   "cell_type": "code",
   "execution_count": 141,
   "id": "2b62ecfd-24b8-48cb-9f92-db2ad87c7511",
   "metadata": {},
   "outputs": [
    {
     "name": "stdout",
     "output_type": "stream",
     "text": [
      "Collecting seaborn\n",
      "  Downloading seaborn-0.13.2-py3-none-any.whl.metadata (5.4 kB)\n",
      "Requirement already satisfied: numpy!=1.24.0,>=1.20 in /home/ubuntu/anaconda3/envs/spark_start/lib/python3.8/site-packages (from seaborn) (1.24.4)\n",
      "Requirement already satisfied: pandas>=1.2 in /home/ubuntu/anaconda3/envs/spark_start/lib/python3.8/site-packages (from seaborn) (2.0.3)\n",
      "Requirement already satisfied: matplotlib!=3.6.1,>=3.4 in /home/ubuntu/anaconda3/envs/spark_start/lib/python3.8/site-packages (from seaborn) (3.7.5)\n",
      "Requirement already satisfied: contourpy>=1.0.1 in /home/ubuntu/anaconda3/envs/spark_start/lib/python3.8/site-packages (from matplotlib!=3.6.1,>=3.4->seaborn) (1.1.1)\n",
      "Requirement already satisfied: cycler>=0.10 in /home/ubuntu/anaconda3/envs/spark_start/lib/python3.8/site-packages (from matplotlib!=3.6.1,>=3.4->seaborn) (0.12.1)\n",
      "Requirement already satisfied: fonttools>=4.22.0 in /home/ubuntu/anaconda3/envs/spark_start/lib/python3.8/site-packages (from matplotlib!=3.6.1,>=3.4->seaborn) (4.55.2)\n",
      "Requirement already satisfied: kiwisolver>=1.0.1 in /home/ubuntu/anaconda3/envs/spark_start/lib/python3.8/site-packages (from matplotlib!=3.6.1,>=3.4->seaborn) (1.4.7)\n",
      "Requirement already satisfied: packaging>=20.0 in /home/ubuntu/anaconda3/envs/spark_start/lib/python3.8/site-packages (from matplotlib!=3.6.1,>=3.4->seaborn) (24.2)\n",
      "Requirement already satisfied: pillow>=6.2.0 in /home/ubuntu/anaconda3/envs/spark_start/lib/python3.8/site-packages (from matplotlib!=3.6.1,>=3.4->seaborn) (10.4.0)\n",
      "Requirement already satisfied: pyparsing>=2.3.1 in /home/ubuntu/anaconda3/envs/spark_start/lib/python3.8/site-packages (from matplotlib!=3.6.1,>=3.4->seaborn) (3.1.4)\n",
      "Requirement already satisfied: python-dateutil>=2.7 in /home/ubuntu/anaconda3/envs/spark_start/lib/python3.8/site-packages (from matplotlib!=3.6.1,>=3.4->seaborn) (2.9.0.post0)\n",
      "Requirement already satisfied: importlib-resources>=3.2.0 in /home/ubuntu/anaconda3/envs/spark_start/lib/python3.8/site-packages (from matplotlib!=3.6.1,>=3.4->seaborn) (6.4.5)\n",
      "Requirement already satisfied: pytz>=2020.1 in /home/ubuntu/anaconda3/envs/spark_start/lib/python3.8/site-packages (from pandas>=1.2->seaborn) (2024.2)\n",
      "Requirement already satisfied: tzdata>=2022.1 in /home/ubuntu/anaconda3/envs/spark_start/lib/python3.8/site-packages (from pandas>=1.2->seaborn) (2024.2)\n",
      "Requirement already satisfied: zipp>=3.1.0 in /home/ubuntu/anaconda3/envs/spark_start/lib/python3.8/site-packages (from importlib-resources>=3.2.0->matplotlib!=3.6.1,>=3.4->seaborn) (3.20.2)\n",
      "Requirement already satisfied: six>=1.5 in /home/ubuntu/anaconda3/envs/spark_start/lib/python3.8/site-packages (from python-dateutil>=2.7->matplotlib!=3.6.1,>=3.4->seaborn) (1.16.0)\n",
      "Downloading seaborn-0.13.2-py3-none-any.whl (294 kB)\n",
      "Installing collected packages: seaborn\n",
      "Successfully installed seaborn-0.13.2\n"
     ]
    }
   ],
   "source": [
    "!pip install seaborn"
   ]
  },
  {
   "cell_type": "code",
   "execution_count": 145,
   "id": "73256c44-7679-47da-b58b-452fca7077ea",
   "metadata": {},
   "outputs": [],
   "source": [
    "import pandas as pd\n",
    "pandas_df = a_df.select(\"ACC_CNT\", \"PURH_CNT\", \"SEX_CD\", \"AGE_CD\", \"TIME_CD\").toPandas()"
   ]
  },
  {
   "cell_type": "code",
   "execution_count": 146,
   "id": "6284a091-1840-4f1a-bce3-cb323ca62075",
   "metadata": {},
   "outputs": [
    {
     "data": {
      "image/png": "[encoded data removed]",
      "text/plain": [
       "<Figure size 1200x800 with 6 Axes>"
      ]
     },
     "metadata": {},
     "output_type": "display_data"
    }
   ],
   "source": [
    "pandas_df.hist(bins=20, figsize=(12, 8), color='skyblue', alpha=0.7)\n",
    "plt.tight_layout()\n",
    "plt.show()"
   ]
  },
  {
   "cell_type": "code",
   "execution_count": 142,
   "id": "3145c0a9-5a73-4bab-9021-a856e170a5e8",
   "metadata": {},
   "outputs": [
    {
     "data": {
      "image/png": "[encoded data removed]",
      "text/plain": [
       "<Figure size 640x480 with 1 Axes>"
      ]
     },
     "metadata": {},
     "output_type": "display_data"
    },
    {
     "data": {
      "image/png": "[encoded data removed]",
      "text/plain": [
       "<Figure size 640x480 with 1 Axes>"
      ]
     },
     "metadata": {},
     "output_type": "display_data"
    }
   ],
   "source": [
    "import seaborn as sns\n",
    "\n",
    "# ACC_CNT 히스토그램\n",
    "sns.histplot(data=pandas_df, x=\"ACC_CNT\", bins=20, kde=True, color='blue')\n",
    "plt.title(\"ACC_CNT Distribution\")\n",
    "plt.xlabel(\"ACC_CNT\")\n",
    "plt.ylabel(\"Frequency\")\n",
    "plt.show()\n",
    "\n",
    "# PURH_CNT 히스토그램\n",
    "sns.histplot(data=pandas_df, x=\"PURH_CNT\", bins=20, kde=True, color='green')\n",
    "plt.title(\"PURH_CNT Distribution\")\n",
    "plt.xlabel(\"PURH_CNT\")\n",
    "plt.ylabel(\"Frequency\")\n",
    "plt.show()\n"
   ]
  },
  {
   "cell_type": "code",
   "execution_count": null,
   "id": "91ed7955-3081-4a15-b5be-e9237c725be0",
   "metadata": {},
   "outputs": [],
   "source": []
  },
  {
   "cell_type": "markdown",
   "id": "58b2c184-669b-4959-b7b1-25475840f199",
   "metadata": {},
   "source": [
    "## 4. 모델 구축"
   ]
  },
  {
   "cell_type": "markdown",
   "id": "4f926c3b-f7e2-49bb-b595-0f3462d21c31",
   "metadata": {},
   "source": [
    "### 1) 피쳐 선택 및 변환"
   ]
  },
  {
   "cell_type": "code",
   "execution_count": 116,
   "id": "cf8491c1-903e-4ce8-9a2a-52b20120a196",
   "metadata": {},
   "outputs": [],
   "source": [
    "from pyspark.ml.feature import StringIndexer\n",
    "\n",
    "# 범주형 데이터 컬럼 리스트\n",
    "category = [\"ADSTRD_CD\", \"STAT_CD\", \"SEX_CD\", \"AGE_CD\", \"TIME_CD\"]\n",
    "\n",
    "# StringIndexer를 단계별로 생성\n",
    "indexers = [\n",
    "    StringIndexer(inputCol=col, outputCol=col + \"_Index\", handleInvalid=\"keep\") \n",
    "    for col in category\n",
    "]\n",
    "\n"
   ]
  },
  {
   "cell_type": "markdown",
   "id": "270d9afd-afc6-4226-b7e9-11ee70a7bfe0",
   "metadata": {},
   "source": [
    "### 2) 피처 벡터 어셈블"
   ]
  },
  {
   "cell_type": "code",
   "execution_count": 117,
   "id": "dea6863a-c4d3-493d-a906-59f546bc6b29",
   "metadata": {},
   "outputs": [],
   "source": [
    "from pyspark.ml.feature import StringIndexer, VectorAssembler\n",
    "\n",
    "# VectorAssembler 설정\n",
    "assembler = VectorAssembler(\n",
    "    inputCols=[col + \"_Index\" for col in category],\n",
    "    outputCol=\"features\"\n",
    ")"
   ]
  },
  {
   "cell_type": "markdown",
   "id": "f756f56d-7fc6-42e7-bf25-f20c96784b6b",
   "metadata": {},
   "source": [
    "### 3) 파이프라인 설정"
   ]
  },
  {
   "cell_type": "code",
   "execution_count": 118,
   "id": "0316c9be-f1dc-4be4-9f21-8f49beba9f39",
   "metadata": {},
   "outputs": [
    {
     "name": "stdout",
     "output_type": "stream",
     "text": [
      "+--------------------+-------+\n",
      "|            features|ACC_CNT|\n",
      "+--------------------+-------+\n",
      "|[160.0,1.0,1.0,1....|      5|\n",
      "|[55.0,1.0,1.0,5.0...|    179|\n",
      "|[90.0,5.0,0.0,0.0...|      5|\n",
      "|[66.0,2.0,1.0,4.0...|    331|\n",
      "|[55.0,2.0,1.0,4.0...|      9|\n",
      "|[86.0,3.0,0.0,5.0...|     18|\n",
      "|[115.0,0.0,0.0,4....|      1|\n",
      "|[70.0,0.0,1.0,1.0...|      3|\n",
      "|[36.0,1.0,0.0,0.0...|      3|\n",
      "|[34.0,1.0,1.0,1.0...|      3|\n",
      "|[252.0,3.0,1.0,1....|      2|\n",
      "|[59.0,2.0,1.0,0.0...|      7|\n",
      "|[52.0,8.0,0.0,5.0...|     10|\n",
      "|[103.0,2.0,1.0,2....|     59|\n",
      "|[145.0,3.0,1.0,2....|      1|\n",
      "| (5,[0,2],[9.0,1.0])|      3|\n",
      "|[139.0,6.0,0.0,5....|      1|\n",
      "|[93.0,3.0,1.0,2.0...|      1|\n",
      "|[5.0,4.0,1.0,1.0,...|     15|\n",
      "|[80.0,1.0,1.0,0.0...|    288|\n",
      "+--------------------+-------+\n",
      "only showing top 20 rows\n",
      "\n"
     ]
    }
   ],
   "source": [
    "from pyspark.ml import Pipeline\n",
    "\n",
    "# 파이프라인 설정\n",
    "pipeline = Pipeline(stages=indexers + [assembler])\n",
    "\n",
    "# 파이프라인 실행\n",
    "pipeline_model = pipeline.fit(a_df)\n",
    "df_transformed = pipeline_model.transform(a_df)\n",
    "\n",
    "# 결과 확인\n",
    "df_transformed.select(\"features\", \"ACC_CNT\").show()"
   ]
  },
  {
   "cell_type": "markdown",
   "id": "5ad8f7e4-4871-409f-a55a-84fbec61d6be",
   "metadata": {},
   "source": [
    "### 4) 데이터 분할"
   ]
  },
  {
   "cell_type": "code",
   "execution_count": 119,
   "id": "48417c49-87fe-4868-a310-b5b76f9d3d0b",
   "metadata": {},
   "outputs": [],
   "source": [
    "train_data, test_data = df_transformed.randomSplit([0.8, 0.2], seed=42)"
   ]
  },
  {
   "cell_type": "code",
   "execution_count": 120,
   "id": "82ddf2e3-5674-4039-a99b-66d571c4656b",
   "metadata": {},
   "outputs": [
    {
     "name": "stdout",
     "output_type": "stream",
     "text": [
      "+---------+-------+------+------+-------+-------+--------+---------------+-------------+------------+------------+-------------+--------------------+\n",
      "|ADSTRD_CD|STAT_CD|SEX_CD|AGE_CD|TIME_CD|ACC_CNT|PURH_CNT|ADSTRD_CD_Index|STAT_CD_Index|SEX_CD_Index|AGE_CD_Index|TIME_CD_Index|            features|\n",
      "+---------+-------+------+------+-------+-------+--------+---------------+-------------+------------+------------+-------------+--------------------+\n",
      "| 11110530|      I|     1|     3|      5|     49|       3|          136.0|          4.0|         1.0|         0.0|          2.0|[136.0,4.0,1.0,0....|\n",
      "| 11110540|      E|     1|     6|      5|     91|       4|           49.0|          1.0|         1.0|         4.0|          2.0|[49.0,1.0,1.0,4.0...|\n",
      "| 11110560|      F|     2|     3|      4|      6|       1|          137.0|          8.0|         0.0|         0.0|          1.0|[137.0,8.0,0.0,0....|\n",
      "| 11110600|      A|     2|     5|      4|      9|      22|           50.0|          0.0|         0.0|         2.0|          1.0|[50.0,0.0,0.0,2.0...|\n",
      "| 11110600|      B|     2|     5|      1|      3|       7|           50.0|          2.0|         0.0|         2.0|          5.0|[50.0,2.0,0.0,2.0...|\n",
      "+---------+-------+------+------+-------+-------+--------+---------------+-------------+------------+------------+-------------+--------------------+\n",
      "only showing top 5 rows\n",
      "\n",
      "+---------+-------+------+------+-------+-------+--------+---------------+-------------+------------+------------+-------------+--------------------+\n",
      "|ADSTRD_CD|STAT_CD|SEX_CD|AGE_CD|TIME_CD|ACC_CNT|PURH_CNT|ADSTRD_CD_Index|STAT_CD_Index|SEX_CD_Index|AGE_CD_Index|TIME_CD_Index|            features|\n",
      "+---------+-------+------+------+-------+-------+--------+---------------+-------------+------------+------------+-------------+--------------------+\n",
      "| 11110540|      L|     1|     3|      5|      8|       4|           49.0|          3.0|         1.0|         0.0|          2.0|[49.0,3.0,1.0,0.0...|\n",
      "| 11110630|      J|     1|     5|      3|     48|      28|          138.0|          5.0|         1.0|         2.0|          0.0|[138.0,5.0,1.0,2....|\n",
      "| 11110650|      F|     2|     5|      5|     33|     362|           14.0|          8.0|         0.0|         2.0|          2.0|[14.0,8.0,0.0,2.0...|\n",
      "| 11110710|      F|     2|     7|      3|     10|       2|           52.0|          8.0|         0.0|         5.0|          0.0|[52.0,8.0,0.0,5.0...|\n",
      "| 11140605|      J|     2|     5|      5|      1|       4|          142.0|          5.0|         0.0|         2.0|          2.0|[142.0,5.0,0.0,2....|\n",
      "+---------+-------+------+------+-------+-------+--------+---------------+-------------+------------+------------+-------------+--------------------+\n",
      "only showing top 5 rows\n",
      "\n"
     ]
    },
    {
     "data": {
      "text/plain": [
       "(None, None)"
      ]
     },
     "execution_count": 120,
     "metadata": {},
     "output_type": "execute_result"
    }
   ],
   "source": [
    "train_data.show(5), test_data.show(5)"
   ]
  },
  {
   "cell_type": "markdown",
   "id": "6a358434-4e4d-4145-a95f-b251b088b47e",
   "metadata": {},
   "source": [
    "### 5) 모델 학습(Linear Regression)"
   ]
  },
  {
   "cell_type": "code",
   "execution_count": 121,
   "id": "654d9354-1ceb-496f-9212-747fad89fc98",
   "metadata": {},
   "outputs": [
    {
     "name": "stderr",
     "output_type": "stream",
     "text": [
      "24/12/19 13:25:37 WARN Instrumentation: [701411df] regParam is zero, which might cause numerical instability and overfitting.\n"
     ]
    }
   ],
   "source": [
    "from pyspark.ml.regression import LinearRegression\n",
    "\n",
    "lr = LinearRegression(featuresCol=\"features\", labelCol=\"ACC_CNT\")\n",
    "lr_model = lr.fit(train_data)"
   ]
  },
  {
   "cell_type": "code",
   "execution_count": 122,
   "id": "b23bbc86-ca5e-466c-99d3-2fe7e1ec3793",
   "metadata": {},
   "outputs": [],
   "source": [
    "predictions = lr_model.transform(test_data)"
   ]
  },
  {
   "cell_type": "markdown",
   "id": "5c721755-8894-4ee6-87c9-b58a6c997b95",
   "metadata": {},
   "source": [
    "## 4. 데이터 분석"
   ]
  },
  {
   "cell_type": "markdown",
   "id": "5eb759aa-e40b-4010-833d-583440619b85",
   "metadata": {},
   "source": [
    "### 1) 행정구역 별 구매 예측"
   ]
  },
  {
   "cell_type": "markdown",
   "id": "f574fe33-ec97-4cc3-afcd-0f0e669ecb3e",
   "metadata": {},
   "source": [
    "#### 1.1) 예측값 확인"
   ]
  },
  {
   "cell_type": "code",
   "execution_count": 123,
   "id": "7db390fe-ed0a-40ad-81d4-3ab59bebacdf",
   "metadata": {},
   "outputs": [
    {
     "name": "stdout",
     "output_type": "stream",
     "text": [
      "+---------+-----------------+\n",
      "|ADSTRD_CD|       prediction|\n",
      "+---------+-----------------+\n",
      "| 11320512|77.88206386564809|\n",
      "| 11710642|75.87627665537283|\n",
      "| 11410565|75.51860343673721|\n",
      "| 11200615|70.54609267062406|\n",
      "| 11200560|69.67071953739536|\n",
      "| 11590680|69.28904420836514|\n",
      "| 11470600|68.73144979897468|\n",
      "| 11710647|67.32149781065407|\n",
      "| 11170690| 66.8042301292542|\n",
      "| 11320670|66.73910666661521|\n",
      "+---------+-----------------+\n",
      "only showing top 10 rows\n",
      "\n"
     ]
    }
   ],
   "source": [
    "predictions.select(\"ADSTRD_CD\", \"prediction\").orderBy(\"prediction\", ascending=False).show(10)"
   ]
  },
  {
   "cell_type": "markdown",
   "id": "b0dfbbc7-15d7-41bf-91ce-54f14de60208",
   "metadata": {},
   "source": [
    "#### 1.2) 실제 데이터 확인"
   ]
  },
  {
   "cell_type": "code",
   "execution_count": 124,
   "id": "c296c06c-cff0-4558-a114-8801eedd5ff3",
   "metadata": {},
   "outputs": [
    {
     "name": "stdout",
     "output_type": "stream",
     "text": [
      "+---------+-------+------------------+\n",
      "|ADSTRD_CD|ACC_CNT|        prediction|\n",
      "+---------+-------+------------------+\n",
      "| 11320512|     13| 77.88206386564809|\n",
      "| 11710642|     14| 75.87627665537283|\n",
      "| 11410565|      8| 75.51860343673721|\n",
      "| 11200615|      1| 70.54609267062406|\n",
      "| 11200560|      1| 69.67071953739536|\n",
      "| 11590680|      6| 69.28904420836514|\n",
      "| 11470600|      5| 68.73144979897468|\n",
      "| 11710647|      1| 67.32149781065407|\n",
      "| 11170690|     42|  66.8042301292542|\n",
      "| 11320670|     64| 66.73910666661521|\n",
      "| 11140635|      9| 66.19127025704279|\n",
      "| 11260630|     14| 65.43731520773986|\n",
      "| 11530540|     11| 65.37967163929646|\n",
      "| 11530540|      3| 63.12835577526348|\n",
      "| 11545620|     11|63.086127587070706|\n",
      "+---------+-------+------------------+\n",
      "only showing top 15 rows\n",
      "\n"
     ]
    }
   ],
   "source": [
    "# 예측값과 실제값 비교\n",
    "predictions.select(\"ADSTRD_CD\", \"ACC_CNT\", \"prediction\").orderBy(\"prediction\", ascending=False).show(15)"
   ]
  },
  {
   "cell_type": "markdown",
   "id": "832c3bdb-5bb3-416e-9bd5-1db9c1ad3155",
   "metadata": {},
   "source": [
    "### 1.3) 모델 성능 평가"
   ]
  },
  {
   "cell_type": "code",
   "execution_count": 125,
   "id": "231b3a95-ec4e-4f06-bdf9-8f1835800b88",
   "metadata": {},
   "outputs": [
    {
     "name": "stdout",
     "output_type": "stream",
     "text": [
      "Root Mean Squared Error (RMSE): 101.40995564054914\n",
      "R-Squared (R²): -0.02882039175085227\n"
     ]
    }
   ],
   "source": [
    "from pyspark.ml.evaluation import RegressionEvaluator\n",
    "\n",
    "# RMSE 계산\n",
    "rmse_evaluator = RegressionEvaluator(\n",
    "    labelCol=\"ACC_CNT\", predictionCol=\"prediction\", metricName=\"rmse\"\n",
    ")\n",
    "rmse = rmse_evaluator.evaluate(predictions)\n",
    "print(f\"Root Mean Squared Error (RMSE): {rmse}\")\n",
    "\n",
    "# R² 계산\n",
    "r2_evaluator = RegressionEvaluator(\n",
    "    labelCol=\"ACC_CNT\", predictionCol=\"prediction\", metricName=\"r2\"\n",
    ")\n",
    "r2 = r2_evaluator.evaluate(predictions)\n",
    "print(f\"R-Squared (R²): {r2}\")"
   ]
  },
  {
   "cell_type": "markdown",
   "id": "f9ffa739-113a-4f31-820b-ce6454ac391c",
   "metadata": {},
   "source": [
    "- 실제 데이터 예측을 잘 하지 못하며, 모델 성능 평가 시에도 모델의 성능이 나쁜 것으로 나타남. "
   ]
  },
  {
   "cell_type": "markdown",
   "id": "2f11bf8e-90d9-448a-b2e6-aaed469b0bd7",
   "metadata": {},
   "source": [
    "### 1.4) 데이터 시각화"
   ]
  },
  {
   "cell_type": "code",
   "execution_count": 128,
   "id": "d8f0db7b-15cd-4cba-b7da-dce8849bca34",
   "metadata": {},
   "outputs": [
    {
     "data": {
      "image/png": "[encoded data removed]",
      "text/plain": [
       "<Figure size 640x480 with 1 Axes>"
      ]
     },
     "metadata": {},
     "output_type": "display_data"
    }
   ],
   "source": [
    "import matplotlib.pyplot as plt\n",
    "import pandas as pd\n",
    "\n",
    "\n",
    "pd_df = predictions.select(\"ACC_CNT\", \"prediction\").toPandas()\n",
    "\n",
    "# 예측값 vs 실제값\n",
    "plt.scatter(pd_df[\"ACC_CNT\"], pd_df[\"prediction\"], alpha=0.5)\n",
    "plt.plot([0, max(pd_df[\"ACC_CNT\"])], [0, max(pd_df[\"ACC_CNT\"])], color='grey', linestyle='--')\n",
    "plt.xlabel(\"Actual ACC_CNT\")\n",
    "plt.ylabel(\"Predicted ACC_CNT\")\n",
    "plt.title(\"Actual vs Predicted\")\n",
    "plt.show()\n"
   ]
  },
  {
   "cell_type": "code",
   "execution_count": null,
   "id": "4bf49a56-eebe-4a46-b02a-61d057aa74d5",
   "metadata": {},
   "outputs": [],
   "source": []
  },
  {
   "cell_type": "markdown",
   "id": "253f5b4d-103c-4451-b58b-bb771e01c29c",
   "metadata": {},
   "source": [
    "### 2. 시간대별 구매 예측"
   ]
  },
  {
   "cell_type": "code",
   "execution_count": 176,
   "id": "ff5a0eef-3c66-4c23-a8f7-c483519a1f36",
   "metadata": {},
   "outputs": [
    {
     "name": "stdout",
     "output_type": "stream",
     "text": [
      "+-------+-------+-----------------+\n",
      "|TIME_CD|ACC_CNT|       prediction|\n",
      "+-------+-------+-----------------+\n",
      "|      5|      8|46.27519002701592|\n",
      "|      3|     48|54.08535761710699|\n",
      "|      5|     33|46.27519002701592|\n",
      "|      3|     10|54.08535761710699|\n",
      "|      5|      1|46.27519002701592|\n",
      "|      1|      9|61.89552520719807|\n",
      "|      6|     12|42.37010623197038|\n",
      "|      2|    572|57.99044141215253|\n",
      "|      1|     42|61.89552520719807|\n",
      "|      4|     49|50.18027382206145|\n",
      "|      5|      1|46.27519002701592|\n",
      "|      6|      2|42.37010623197038|\n",
      "|      6|      3|42.37010623197038|\n",
      "|      2|      1|57.99044141215253|\n",
      "|      4|      1|50.18027382206145|\n",
      "|      3|      6|54.08535761710699|\n",
      "|      4|      4|50.18027382206145|\n",
      "|      4|     95|50.18027382206145|\n",
      "|      3|      1|54.08535761710699|\n",
      "|      6|     12|42.37010623197038|\n",
      "+-------+-------+-----------------+\n",
      "only showing top 20 rows\n",
      "\n"
     ]
    },
    {
     "name": "stderr",
     "output_type": "stream",
     "text": [
      "24/12/19 16:52:54 WARN Instrumentation: [af86b43f] regParam is zero, which might cause numerical instability and overfitting.\n"
     ]
    }
   ],
   "source": [
    "# VectorAssembler로 피처 생성\n",
    "assembler = VectorAssembler(\n",
    "    inputCols=[\"TIME_CD\"],  # 모델 입력 피처\n",
    "    outputCol=\"features\"\n",
    ")\n",
    "time_df = assembler.transform(a_df)\n",
    "\n",
    "# 데이터 분할\n",
    "train_df, test_df = time_df.randomSplit([0.8, 0.2], seed=42)\n",
    "\n",
    "# 모델 정의 및 학습\n",
    "from pyspark.ml.regression import LinearRegression\n",
    "\n",
    "lr = LinearRegression(featuresCol=\"features\", labelCol=\"ACC_CNT\")  # 타깃 변수는 ACC_CNT\n",
    "lr_model = lr.fit(train_df)\n",
    "\n",
    "# 예측 수행\n",
    "predictions = lr_model.transform(test_df)\n",
    "\n",
    "# 결과 확인\n",
    "predictions.select(\"TIME_CD\", \"ACC_CNT\", \"prediction\").show()\n"
   ]
  },
  {
   "cell_type": "code",
   "execution_count": 177,
   "id": "93443bed-d708-4c77-a59c-ae6e145d4232",
   "metadata": {},
   "outputs": [
    {
     "name": "stdout",
     "output_type": "stream",
     "text": [
      "Root Mean Squared Error (RMSE): 100.07515098476581\n",
      "R-Squared (R²): -0.0019150173147115535\n"
     ]
    }
   ],
   "source": [
    "from pyspark.ml.evaluation import RegressionEvaluator\n",
    "\n",
    "# RMSE 계산\n",
    "rmse_evaluator = RegressionEvaluator(labelCol=\"ACC_CNT\", predictionCol=\"prediction\", metricName=\"rmse\")\n",
    "rmse = rmse_evaluator.evaluate(predictions)\n",
    "print(f\"Root Mean Squared Error (RMSE): {rmse}\")\n",
    "\n",
    "# R² 계산\n",
    "r2_evaluator = RegressionEvaluator(labelCol=\"ACC_CNT\", predictionCol=\"prediction\", metricName=\"r2\")\n",
    "r2 = r2_evaluator.evaluate(predictions)\n",
    "print(f\"R-Squared (R²): {r2}\")"
   ]
  },
  {
   "cell_type": "markdown",
   "id": "55d96455-c8a6-4192-a070-351b2625223f",
   "metadata": {},
   "source": [
    "### 추가 예정\n",
    "1) 기준연월별 분석\n",
    "2) 행정구역별 구매 > 행정구역별 구매자수or금액 sum한 후 다시 예측\n",
    "3) 연속형 변수 describe 및 데이터 탐색"
   ]
  },
  {
   "cell_type": "code",
   "execution_count": null,
   "id": "ba04dd48-2046-45b7-be0d-1d2048ab49d0",
   "metadata": {},
   "outputs": [],
   "source": []
  },
  {
   "cell_type": "code",
   "execution_count": null,
   "id": "e8a633ca-2b80-42b9-8fc9-91dbc7b906ff",
   "metadata": {},
   "outputs": [],
   "source": []
  },
  {
   "cell_type": "code",
   "execution_count": null,
   "id": "74bdc0a4-f024-411b-ab95-848c0ce98852",
   "metadata": {},
   "outputs": [],
   "source": []
  }
 ],
 "metadata": {
  "kernelspec": {
   "display_name": "Python (spark_start)",
   "language": "python",
   "name": "spark_start"
  },
  "language_info": {
   "codemirror_mode": {
    "name": "ipython",
    "version": 3
   },
   "file_extension": ".py",
   "mimetype": "text/x-python",
   "name": "python",
   "nbconvert_exporter": "python",
   "pygments_lexer": "ipython3",
   "version": "3.8.20"
  }
 },
 "nbformat": 4,
 "nbformat_minor": 5
}
